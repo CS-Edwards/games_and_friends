{
  "nbformat": 4,
  "nbformat_minor": 0,
  "metadata": {
    "colab": {
      "provenance": [],
      "toc_visible": true,
      "authorship_tag": "ABX9TyP6mR+r4u1C2j3JJY3XdjR1",
      "include_colab_link": true
    },
    "kernelspec": {
      "name": "python3",
      "display_name": "Python 3"
    },
    "language_info": {
      "name": "python"
    }
  },
  "cells": [
    {
      "cell_type": "markdown",
      "metadata": {
        "id": "view-in-github",
        "colab_type": "text"
      },
      "source": [
        "<a href=\"https://colab.research.google.com/github/CS-Edwards/games_and_friends/blob/main/Part_1_Weaviate_Client_and_Generative_Search_draft.ipynb\" target=\"_parent\"><img src=\"https://colab.research.google.com/assets/colab-badge.svg\" alt=\"Open In Colab\"/></a>"
      ]
    },
    {
      "cell_type": "markdown",
      "source": [
        "## Games and Friends 😊🎲\n",
        "\n",
        "Love board games? In this demo we build a workflow with Weaviate (Python v.4) and OpenAI to query our database suggests games to play and friends to play them with using natural language prompts.\n",
        "\n",
        "This demo is split into two parts (and two notebooks):\n",
        "\n",
        "-  *Part 1: Weaviate Client and Generative Search\n",
        "-  Part 2: Open AI Function Calling\n",
        "\n",
        "**THIS NOTEBOOK IS PART ONE.**"
      ],
      "metadata": {
        "id": "lN8S5Tqp71Wj"
      }
    },
    {
      "cell_type": "markdown",
      "source": [
        "In this notebook we:\n",
        "1. Connect to Weaviate Cloud Database client instance\n",
        "2. Import and review out dataset(s)\n",
        "3. Create \"Game\" and \"Player\" Collections and Schema\n",
        "4. Populate the Collections by importing data using two methods:\n",
        "  - Batch: `batch.dynamic()`\n",
        "  - Insert:  `insert_many()`\n",
        "5. Execute Generative Search on Collections\n"
      ],
      "metadata": {
        "id": "hJFAONFOrjdX"
      }
    },
    {
      "cell_type": "code",
      "execution_count": 1,
      "metadata": {
        "colab": {
          "base_uri": "https://localhost:8080/"
        },
        "id": "-he3hSkhzL-d",
        "outputId": "506a4f97-46b1-4b12-80ad-1b33b3034e4e"
      },
      "outputs": [
        {
          "output_type": "stream",
          "name": "stdout",
          "text": [
            "\u001b[2K     \u001b[90m━━━━━━━━━━━━━━━━━━━━━━━━━━━━━━━━━━━━━━━━\u001b[0m \u001b[32m325.2/325.2 kB\u001b[0m \u001b[31m4.3 MB/s\u001b[0m eta \u001b[36m0:00:00\u001b[0m\n",
            "\u001b[2K     \u001b[90m━━━━━━━━━━━━━━━━━━━━━━━━━━━━━━━━━━━━━━━━\u001b[0m \u001b[32m75.6/75.6 kB\u001b[0m \u001b[31m6.1 MB/s\u001b[0m eta \u001b[36m0:00:00\u001b[0m\n",
            "\u001b[2K     \u001b[90m━━━━━━━━━━━━━━━━━━━━━━━━━━━━━━━━━━━━━━━━\u001b[0m \u001b[32m40.0/40.0 kB\u001b[0m \u001b[31m3.2 MB/s\u001b[0m eta \u001b[36m0:00:00\u001b[0m\n",
            "\u001b[2K     \u001b[90m━━━━━━━━━━━━━━━━━━━━━━━━━━━━━━━━━━━━━━━━\u001b[0m \u001b[32m223.8/223.8 kB\u001b[0m \u001b[31m17.9 MB/s\u001b[0m eta \u001b[36m0:00:00\u001b[0m\n",
            "\u001b[2K     \u001b[90m━━━━━━━━━━━━━━━━━━━━━━━━━━━━━━━━━━━━━━━━\u001b[0m \u001b[32m2.3/2.3 MB\u001b[0m \u001b[31m15.9 MB/s\u001b[0m eta \u001b[36m0:00:00\u001b[0m\n",
            "\u001b[2K     \u001b[90m━━━━━━━━━━━━━━━━━━━━━━━━━━━━━━━━━━━━━━━━\u001b[0m \u001b[32m309.2/309.2 kB\u001b[0m \u001b[31m1.8 MB/s\u001b[0m eta \u001b[36m0:00:00\u001b[0m\n",
            "\u001b[2K     \u001b[90m━━━━━━━━━━━━━━━━━━━━━━━━━━━━━━━━━━━━━━━━\u001b[0m \u001b[32m77.9/77.9 kB\u001b[0m \u001b[31m3.6 MB/s\u001b[0m eta \u001b[36m0:00:00\u001b[0m\n",
            "\u001b[2K     \u001b[90m━━━━━━━━━━━━━━━━━━━━━━━━━━━━━━━━━━━━━━━━\u001b[0m \u001b[32m58.3/58.3 kB\u001b[0m \u001b[31m3.2 MB/s\u001b[0m eta \u001b[36m0:00:00\u001b[0m\n",
            "\u001b[?25h\u001b[31mERROR: pip's dependency resolver does not currently take into account all the packages that are installed. This behaviour is the source of the following dependency conflicts.\n",
            "cudf-cu12 24.4.1 requires protobuf<5,>=3.20, but you have protobuf 5.27.1 which is incompatible.\n",
            "google-ai-generativelanguage 0.6.4 requires protobuf!=3.20.0,!=3.20.1,!=4.21.0,!=4.21.1,!=4.21.2,!=4.21.3,!=4.21.4,!=4.21.5,<5.0.0dev,>=3.19.5, but you have protobuf 5.27.1 which is incompatible.\n",
            "google-api-core 2.11.1 requires protobuf!=3.20.0,!=3.20.1,!=4.21.0,!=4.21.1,!=4.21.2,!=4.21.3,!=4.21.4,!=4.21.5,<5.0.0.dev0,>=3.19.5, but you have protobuf 5.27.1 which is incompatible.\n",
            "google-cloud-aiplatform 1.52.0 requires protobuf!=3.20.0,!=3.20.1,!=4.21.0,!=4.21.1,!=4.21.2,!=4.21.3,!=4.21.4,!=4.21.5,<5.0.0dev,>=3.19.5, but you have protobuf 5.27.1 which is incompatible.\n",
            "google-cloud-bigquery-connection 1.12.1 requires protobuf!=3.20.0,!=3.20.1,!=4.21.0,!=4.21.1,!=4.21.2,!=4.21.3,!=4.21.4,!=4.21.5,<5.0.0dev,>=3.19.5, but you have protobuf 5.27.1 which is incompatible.\n",
            "google-cloud-bigquery-storage 2.25.0 requires protobuf!=3.20.0,!=3.20.1,!=4.21.0,!=4.21.1,!=4.21.2,!=4.21.3,!=4.21.4,!=4.21.5,<5.0.0dev,>=3.19.5, but you have protobuf 5.27.1 which is incompatible.\n",
            "google-cloud-datastore 2.15.2 requires protobuf!=3.20.0,!=3.20.1,!=4.21.0,!=4.21.1,!=4.21.2,!=4.21.3,!=4.21.4,!=4.21.5,<5.0.0dev,>=3.19.5, but you have protobuf 5.27.1 which is incompatible.\n",
            "google-cloud-firestore 2.11.1 requires protobuf!=3.20.0,!=3.20.1,!=4.21.0,!=4.21.1,!=4.21.2,!=4.21.3,!=4.21.4,!=4.21.5,<5.0.0dev,>=3.19.5, but you have protobuf 5.27.1 which is incompatible.\n",
            "google-cloud-functions 1.13.3 requires protobuf!=3.20.0,!=3.20.1,!=4.21.0,!=4.21.1,!=4.21.2,!=4.21.3,!=4.21.4,!=4.21.5,<5.0.0dev,>=3.19.5, but you have protobuf 5.27.1 which is incompatible.\n",
            "google-cloud-iam 2.15.0 requires protobuf!=3.20.0,!=3.20.1,!=4.21.0,!=4.21.1,!=4.21.2,!=4.21.3,!=4.21.4,!=4.21.5,<5.0.0dev,>=3.19.5, but you have protobuf 5.27.1 which is incompatible.\n",
            "google-cloud-language 2.13.3 requires protobuf!=3.20.0,!=3.20.1,!=4.21.0,!=4.21.1,!=4.21.2,!=4.21.3,!=4.21.4,!=4.21.5,<5.0.0dev,>=3.19.5, but you have protobuf 5.27.1 which is incompatible.\n",
            "google-cloud-resource-manager 1.12.3 requires protobuf!=3.20.0,!=3.20.1,!=4.21.0,!=4.21.1,!=4.21.2,!=4.21.3,!=4.21.4,!=4.21.5,<5.0.0dev,>=3.19.5, but you have protobuf 5.27.1 which is incompatible.\n",
            "google-cloud-translate 3.11.3 requires protobuf!=3.20.0,!=3.20.1,!=4.21.0,!=4.21.1,!=4.21.2,!=4.21.3,!=4.21.4,!=4.21.5,<5.0.0dev,>=3.19.5, but you have protobuf 5.27.1 which is incompatible.\n",
            "grpc-google-iam-v1 0.13.0 requires protobuf!=3.20.0,!=3.20.1,!=4.21.1,!=4.21.2,!=4.21.3,!=4.21.4,!=4.21.5,<5.0.0dev,>=3.19.5, but you have protobuf 5.27.1 which is incompatible.\n",
            "proto-plus 1.23.0 requires protobuf<5.0.0dev,>=3.19.0, but you have protobuf 5.27.1 which is incompatible.\n",
            "tensorflow 2.15.0 requires protobuf!=4.21.0,!=4.21.1,!=4.21.2,!=4.21.3,!=4.21.4,!=4.21.5,<5.0.0dev,>=3.20.3, but you have protobuf 5.27.1 which is incompatible.\n",
            "tensorflow-metadata 1.15.0 requires protobuf<4.21,>=3.20.3; python_version < \"3.11\", but you have protobuf 5.27.1 which is incompatible.\u001b[0m\u001b[31m\n",
            "\u001b[2K     \u001b[90m━━━━━━━━━━━━━━━━━━━━━━━━━━━━━━━━━━━━━━━━\u001b[0m \u001b[32m325.5/325.5 kB\u001b[0m \u001b[31m4.8 MB/s\u001b[0m eta \u001b[36m0:00:00\u001b[0m\n",
            "\u001b[?25h"
          ]
        }
      ],
      "source": [
        "!pip install -q -U weaviate-client # Python v.4\n",
        "!pip install -q openai"
      ]
    },
    {
      "cell_type": "code",
      "source": [
        "import weaviate\n",
        "import openai\n",
        "import pandas as pd\n",
        "from typing import List, Any\n",
        "\n",
        "\n",
        "from weaviate.classes.config import Configure, Property, DataType, VectorDistances\n",
        "from weaviate.util import generate_uuid5\n",
        "from weaviate.classes.query import MetadataQuery"
      ],
      "metadata": {
        "id": "ISKwU8BrzVN_"
      },
      "execution_count": 2,
      "outputs": []
    },
    {
      "cell_type": "code",
      "source": [
        "#@title ▶️ Load Local Utility Functions\n",
        "\n",
        "def print_response_objects(objects: List[Any]):\n",
        "    \"\"\"\n",
        "    Print function for query generative search and generate responses\n",
        "\n",
        "    Args:\n",
        "        objects (List[Any]): List of objects to process.\n",
        "    \"\"\"\n",
        "    for o in objects:\n",
        "        print(f'Properties: {o.properties}')\n",
        "        print(f'Distance: {o.metadata.distance}')"
      ],
      "metadata": {
        "id": "aoTDnnupXvuz"
      },
      "execution_count": 11,
      "outputs": []
    },
    {
      "cell_type": "markdown",
      "source": [
        "### SETUP: Weaviate Cloud and Environment Variables\n",
        "\n",
        "In this demo we use the free 14-day Weavaite Cloud Database sandbox.\n",
        "\n",
        "To setup your sandbox:\n",
        "1. Login or create an account at: [console.weaviate.cloud](https://console.weaviate.cloud)\n",
        "\n",
        "2. Click \"Create Cluster\", and provide a \"Sandbox name\" for your instance and select \"Create\".\n",
        "\n",
        "3. In your .env, or \"Secrets\" copy and save the:\n",
        "  <br> REST Endpoint URL as \"WCS_URL\"\n",
        "  <br> Admin API Key as \"WCS_API_Key\"\n",
        "\n",
        "\n",
        "Additional Resources:\n",
        "\n",
        "- Quickstart- Weaviate Cloud: https://weaviate.io/developers/wcs/quickstart\n",
        "- Documentation - Weaviate Cloud: https://weaviate.io/developers/wcs"
      ],
      "metadata": {
        "id": "-DVQ6PnF08xi"
      }
    },
    {
      "cell_type": "code",
      "source": [
        "\n",
        "#\n",
        "# Set environment variables\n",
        "#\n",
        "\n",
        "# For Colab \"Secrets\"\n",
        "from google.colab import userdata\n",
        "\n",
        "URL = userdata.get(\"WCS_URL\")\n",
        "APIKEY = userdata.get(\"WCS_API_KEY\")\n",
        "OPENAIKEY = userdata.get(\"OPENAI\")\n"
      ],
      "metadata": {
        "id": "FCuoAHfOzdWJ"
      },
      "execution_count": 4,
      "outputs": []
    },
    {
      "cell_type": "markdown",
      "source": [
        "##### Note: Jupyter Environtment Variables\n",
        "\n",
        "To set environment variables for a Jupyter Notebook use:\n",
        "```\n",
        "import os\n",
        "URL = os.getenv(\"WCS_URL\")\n",
        "APIKEY = os.getenv(\"WCS_API_KEY\")\n",
        "```\n",
        "\n"
      ],
      "metadata": {
        "id": "Fs4nhAL-6D-H"
      }
    },
    {
      "cell_type": "markdown",
      "source": [
        "### CLIENT: Weaviate Cloud Database"
      ],
      "metadata": {
        "id": "Ngd-FQRc6Ywz"
      }
    },
    {
      "cell_type": "code",
      "source": [
        "#\n",
        "# Connect to WCS instance\n",
        "#\n",
        "\n",
        "with weaviate.connect_to_wcs(\n",
        "    cluster_url=URL,\n",
        "    auth_credentials=weaviate.auth.AuthApiKey(APIKEY),\n",
        "    headers={\n",
        "        \"X-OpenAI-Api-Key\": OPENAIKEY\n",
        "    }\n",
        "  )as client:\n",
        "    print(f'Weaviate Client Ready: {client.is_ready()}')\n",
        "    print(f'Weaviate Client Connected: {client.is_connected()}')"
      ],
      "metadata": {
        "id": "KKb8xmPF0h8U",
        "colab": {
          "base_uri": "https://localhost:8080/"
        },
        "outputId": "835c7f36-6eaf-4cca-8cbe-837bc7cfd2b7"
      },
      "execution_count": 5,
      "outputs": [
        {
          "output_type": "stream",
          "name": "stdout",
          "text": [
            "Weaviate Client Ready: True\n",
            "Weaviate Client Connected: True\n"
          ]
        }
      ]
    },
    {
      "cell_type": "markdown",
      "source": [
        "### DATASETS: Games and Players\n",
        "\n",
        "🎲 **Game Data: Kaggle and Wikipedia** <br>\n",
        "The initial data was sourced from [Kaggle's: Board Game Geek Top 100](https://www.kaggle.com/datasets/medaxone/boardgamegeek-top100) dataset. We then pulled Wikipedia data for each game and added the information to the dataset.\n",
        "\n",
        "Filename: `board_game_dataset.csv` <br>\n",
        "To view dataset building notebook: Linked here\n",
        "\n",
        "😊 **Player Data:**<br>\n",
        "The data for the player profiles was created manually and is stored within the notebook in JSON format.\n"
      ],
      "metadata": {
        "id": "5Rp1GTsbARBH"
      }
    },
    {
      "cell_type": "code",
      "source": [
        "#\n",
        "# Import dataset\n",
        "#\n",
        "\n",
        "data = pd.read_csv('data/board_game_dataset.csv')\n",
        "data.head(5)"
      ],
      "metadata": {
        "id": "swuLNMeS7ING"
      },
      "execution_count": 13,
      "outputs": []
    },
    {
      "cell_type": "code",
      "source": [
        "data.info()"
      ],
      "metadata": {
        "id": "G3hYpcBXmqJf"
      },
      "execution_count": null,
      "outputs": []
    },
    {
      "cell_type": "code",
      "source": [
        "#@title ▶️ Load Player Data: player_profiles_json\n",
        "\n",
        "player_profiles_json = [\n",
        "  {\n",
        "    \"name\": \"Khadijah\",\n",
        "    \"age\": 25,\n",
        "    \"favoriteGame\": \"Monopoly\",\n",
        "    \"profile\": \"I enjoy competitive games that involve strategy and negotiation. Monopoly is one of my favorite games because it allows me to showcase my business acumen and outwit my opponents.\"\n",
        "  },\n",
        "  {\n",
        "    \"name\": \"Max\",\n",
        "    \"age\": 30,\n",
        "    \"favoriteGame\": \"Scrabble\",\n",
        "    \"profile\": \"As a lover of words and puzzles, Scrabble is my go-to game. I thrive on the challenge of forming words and maximizing points. I also appreciate games that stimulate my mind and vocabulary.\"\n",
        "  },\n",
        "  {\n",
        "    \"name\": \"Sinclair\",\n",
        "    \"age\": 22,\n",
        "    \"favoriteGame\": \"Risk\",\n",
        "    \"profile\": \"Risk appeals to my adventurous spirit and strategic thinking. I enjoy plotting my conquests and engaging in epic battles with friends. Games that require long-term planning and diplomacy are my forte.\"\n",
        "  },\n",
        "  {\n",
        "    \"name\": \"Regine\",\n",
        "    \"age\": 28,\n",
        "    \"favoriteGame\": \"Catan\",\n",
        "    \"profile\": \"Catan is my go-to game for its blend of strategy and social interaction. I relish the challenge of building settlements and trading resources with fellow players. Cooperative games that foster camaraderie are my favorite.\"\n",
        " }\n",
        "]\n"
      ],
      "metadata": {
        "id": "OeKCaPOS88_l",
        "cellView": "form"
      },
      "execution_count": null,
      "outputs": []
    },
    {
      "cell_type": "code",
      "source": [
        "#\n",
        "# **LOAD player_profiles.json FILE IN PREVIOUS CELL**\n",
        "# View player profile.\n",
        "#\n",
        "\n",
        "\n",
        "players_data = pd.DataFrame(player_profiles_json)\n",
        "players_data.head()\n",
        "\n"
      ],
      "metadata": {
        "id": "6--ilU3kKh1l"
      },
      "execution_count": null,
      "outputs": []
    },
    {
      "cell_type": "code",
      "source": [
        "players_data.info()"
      ],
      "metadata": {
        "id": "9tb0lrGJKvbS"
      },
      "execution_count": null,
      "outputs": []
    },
    {
      "cell_type": "markdown",
      "source": [
        "###  COLLECTIONS AND SCHEMA: 'Game' and 'Player'\n",
        "\n",
        "Based on the data above, we see that each object in our database is either a 'Game' or a 'Player'. Each collection has a distinct schema that is approprite for the data stored within the collection.\n",
        "\n",
        "In the 'Game' collection schema we vectorize the `tite`, `subtitle`,`primaryType`, `secondaryType`, and `description` properies using OpenAI's `text-embedding-ada-002` embedding model. We exclude the numerical properties from vectorization.\n",
        "\n",
        "In the 'Player' collection schema we vectorize the `age`, `name`,`profile`, using OpenAI's `text-embedding-ada-002` embedding model. We exclude the `name` property from vectorization.\n",
        "\n",
        "\n",
        "**Resources:**\n",
        "-  Weaviate Collections: [Documentation](https://weaviate.io/developers/weaviate/manage-data/collections)\n",
        "- Open AI Embedding Models: [Documentation](https://platform.openai.com/docs/guides/embeddings/embedding-models)\n",
        "\n"
      ],
      "metadata": {
        "id": "mcqqwSb_UoRh"
      }
    },
    {
      "cell_type": "code",
      "source": [
        "#\n",
        "# Clear Existing Collections\n",
        "#\n",
        "client.connect()\n",
        "client.collections.delete_all()\n",
        "client.collections.list_all() #empty\n"
      ],
      "metadata": {
        "id": "7TcaFHanUOi0"
      },
      "execution_count": null,
      "outputs": []
    },
    {
      "cell_type": "code",
      "source": [
        "#\n",
        "# Create Games Collection\n",
        "#\n",
        "\n",
        "client.collections.create(\n",
        "    \"Game\",\n",
        "    properties=[\n",
        "        Property(name=\"title\", data_type=DataType.TEXT),\n",
        "        Property(name=\"subtitle\", data_type=DataType.TEXT),\n",
        "        Property(name=\"primaryType\", data_type=DataType.TEXT),\n",
        "        Property(name=\"secondaryType\", data_type=DataType.TEXT),\n",
        "        Property(name=\"description\", data_type=DataType.TEXT),\n",
        "        Property(name=\"minPlayers\", data_type=DataType.NUMBER, skip_vectorization=True),\n",
        "        Property(name=\"maxPlayers\", data_type=DataType.NUMBER, skip_vectorization=True),\n",
        "        Property(name=\"bestPlayers\", data_type=DataType.NUMBER, skip_vectorization=True),\n",
        "        Property(name=\"minPlayTime\", data_type=DataType.NUMBER, skip_vectorization=True,),\n",
        "        Property(name=\"minAge\", data_type=DataType.NUMBER, skip_vectorization=True)\n",
        "    ],\n",
        "   vectorizer_config=Configure.Vectorizer.text2vec_openai(),\n",
        "   vector_index_config=Configure.VectorIndex.hnsw(\n",
        "       distance_metric= VectorDistances.COSINE\n",
        "   ),\n",
        "    generative_config=Configure.Generative.openai()\n",
        "\n",
        ")"
      ],
      "metadata": {
        "id": "-56z3LmA9NLP"
      },
      "execution_count": null,
      "outputs": []
    },
    {
      "cell_type": "code",
      "source": [
        "#\n",
        "# Player Collection\n",
        "#\n",
        "\n",
        "client.collections.create(\n",
        "    \"Player\",\n",
        "    properties=[\n",
        "        Property(name=\"name\", data_type=DataType.TEXT, skip_vectorization=True),\n",
        "        Property(name=\"age\", data_type=DataType.NUMBER),\n",
        "        Property(name=\"favoriteGame\", data_type=DataType.TEXT),\n",
        "        Property(name=\"profile\", data_type=DataType.TEXT)\n",
        "    ],\n",
        "   vectorizer_config=Configure.Vectorizer.text2vec_openai(),\n",
        "   vector_index_config=Configure.VectorIndex.hnsw(\n",
        "       distance_metric= VectorDistances.COSINE\n",
        "   ),\n",
        "    generative_config=Configure.Generative.openai()\n",
        "\n",
        ")\n"
      ],
      "metadata": {
        "id": "HqLTGbJoFUgI"
      },
      "execution_count": null,
      "outputs": []
    },
    {
      "cell_type": "code",
      "source": [
        "#\n",
        "# View Collections\n",
        "#\n",
        "\n",
        "client.collections.list_all()"
      ],
      "metadata": {
        "id": "rVaa9nrpZQER"
      },
      "execution_count": null,
      "outputs": []
    },
    {
      "cell_type": "markdown",
      "source": [
        "### IMPORT DATA: Weaviate Data Import\n",
        "\n",
        "Now that we have created our collections we can populate each collection with out dataset data.\n",
        "\n",
        "**Dynamic Batch Import:**\n",
        "To populate the 'Game' collection we use the dynamic batch import approach.\n",
        "\n",
        "**Insert Many Import:**\n",
        "To populate the 'Player' collection we use the insert many import approach.\n",
        "\n",
        "\n",
        "**Resources:**\n",
        "- Weaviate Batch Import: [Documentation](https://weaviate.io/developers/weaviate/manage-data/import)\n",
        "\n"
      ],
      "metadata": {
        "id": "-sRNcGMgZbct"
      }
    },
    {
      "cell_type": "code",
      "source": [
        "#\n",
        "# Access Collections: Player and Game\n",
        "#\n",
        "\n",
        "game = client.collections.get(\"Game\")\n",
        "player = client.collections.get(\"Player\")"
      ],
      "metadata": {
        "id": "MByGTZPHRpNG"
      },
      "execution_count": 7,
      "outputs": []
    },
    {
      "cell_type": "code",
      "source": [
        "#\n",
        "# Batch Import Game data from .csv\n",
        "#\n",
        "\n",
        "with game.batch.dynamic() as batch:\n",
        "    for index, row in data.iterrows():\n",
        "        data_row = {\n",
        "            \"title\": row['Name'],\n",
        "            \"subtitle\": row['Subtitle'],\n",
        "            \"primaryType\": row['Type_1'],\n",
        "            \"secondaryType\": row['Type_2'],\n",
        "            \"description\": row['wiki_game_summary'],\n",
        "            \"minPlayers\": row['MinPlayers'],\n",
        "            \"maxPlayers\": row['MaxPlayers'],\n",
        "            \"bestPlayers\": row['BestPlayers'],\n",
        "            \"minPlayTime\": row['MinPlayTime'],\n",
        "            \"minAge\": row['MinAge']\n",
        "        }\n",
        "        try:\n",
        "          obj_uuid = generate_uuid5(data_row)\n",
        "          batch.add_object(\n",
        "              properties=data_row,\n",
        "              uuid=obj_uuid\n",
        "          )\n",
        "        except Exception as e:\n",
        "          print(f\"Error occurred for title '{row['Name']}' at index {index}: {e}\")"
      ],
      "metadata": {
        "id": "gc0iEn-UZT_X"
      },
      "execution_count": null,
      "outputs": []
    },
    {
      "cell_type": "code",
      "source": [
        "#\n",
        "# Check for failed imports\n",
        "#\n",
        "\n",
        "len(game.batch.failed_objects)"
      ],
      "metadata": {
        "id": "3unR_2O6Y2tX"
      },
      "execution_count": null,
      "outputs": []
    },
    {
      "cell_type": "code",
      "source": [
        "#\n",
        "# Populate Player Collection : insert_many()\n",
        "#\n",
        "\n",
        "player = client.collections.get(\"Player\")\n",
        "player.data.insert_many(player_profiles_json)\n",
        "len(player.batch.failed_objects)"
      ],
      "metadata": {
        "id": "p9tb-5QsKyhS"
      },
      "execution_count": null,
      "outputs": []
    },
    {
      "cell_type": "markdown",
      "source": [
        "### Generative Search: Querying the Collections\n",
        "\n",
        ""
      ],
      "metadata": {
        "id": "_1mfHEfwbjxi"
      }
    },
    {
      "cell_type": "code",
      "source": [
        "#\n",
        "# Test Fetch Query for Player and Game collection\n",
        "#\n",
        "\n",
        "game_response = game.query.fetch_objects(\n",
        "    limit=1\n",
        ")\n",
        "\n",
        "player_response = player.query.fetch_objects(\n",
        "    limit=1\n",
        ")\n",
        "\n",
        "print(f'Game Fetch: {game_response}')\n",
        "print(f'Player Fetch: {player_response}')"
      ],
      "metadata": {
        "id": "ieKg_5__GDL8"
      },
      "execution_count": null,
      "outputs": []
    },
    {
      "cell_type": "code",
      "source": [
        "#\n",
        "# Query\n",
        "#\n",
        "\n",
        "response = game.query.near_text(\n",
        "    query=\"fantasy adventure card game\",\n",
        "    limit=2,\n",
        "    return_metadata=MetadataQuery(distance=True)\n",
        ")\n",
        "\n",
        "print_response_objects(response.objects)"
      ],
      "metadata": {
        "id": "kc2zVDddC9Qp",
        "colab": {
          "base_uri": "https://localhost:8080/"
        },
        "outputId": "567f7c3d-2451-45a2-94a7-947cd2487002"
      },
      "execution_count": 12,
      "outputs": [
        {
          "output_type": "stream",
          "name": "stdout",
          "text": [
            "Properties: {'bestPlayers': 2.0, 'description': 'The Lord of the Rings: The Card Game is a non-collectible customizable card game produced by Fantasy Flight Games. As part of the Living Card Game (LCG) genre, it is a cooperative and strategic card game set in Middle-earth, a fantasy world featured in literary works by J. R. R. Tolkien, including The Hobbit and The Lord of the Rings. Its digital adaptation, titled The Lord of the Rings: Adventure Card Game, is published by Asmodee Digital for cross-platform play on Microsoft Windows, macOS, PlayStation 4, Xbox One and Nintendo Switch, being the \"first ever digital LCG\".\\n\\n\\n== Mechanics ==\\nLike other card games in Fantasy Flight\\'s \"Living Card Game\" line, it has deck construction and regularly released expansions similar to a collectible card game, but without the randomized card distribution.\\nThe game may be played either solitaire or with a group. Up to 2 players can play the game with a single core set, and up to 4 players can play with an additional core set. Unlike most card games of this type, this game is a cooperative game; the players are not opponents, but work together against an \"encounter deck\" which represents the forces of Sauron and produces the obstacles that the players have to conquer.\\nEach player has their own cards: their heroes (up to 3) which start in play, and a deck of at least 50 cards, composed of Allies, Attachments (such as weapons, armor, and other items), and Events. Although the core set comes with pre-constructed decks, deck construction is a major aspect of the game, and many players build their own decks, utilising cards from the various expansions.\\n\\n\\n== Community ==\\nThe Lord of the Rings Living Card Game has an active following, with multiple podcasts and blogs dedicated to discussing gameplay, strategy, deck-building, and news, as well as providing custom content. Podcasts include Cardboard of the Rings, The Grey Company, and The Mouth of Sauron. Blogs include Tales From the Cards, Hall of Beorn, Master of Lore, Dor Cuarthol, and Vision of the Palantir.\\n\\n\\n== Expansions ==\\nThere are several types of expansion to this game. Each Deluxe Expansion (and the core set) contain 3 quests and begins a new cycle, which usually shares a mechanical or story-driven theme. These releases are supplemented by 6 Adventure Packs for a total of 9 quests per cycle. The Hero and Campaign Expansions combine a cycle\\'s Deluxe Expansion and its related Adventure packs (i.e. The Lost Realm expansion and the six Angmar Awakened packs) into two products, while also adding campaign cards. The Saga Expansions follow the story of The Hobbit and The Lord of the Rings, with the initial time-frame for the game the 17 years between Bilbo leaving The Shire and Frodo following him. The latter introduced a mode of play called Campaign mode allowing for some degree of permanence between the quests telling the story. Players can earn powerful \"Boon\" cards, which can be used in the following quests, as well as \"Burden\" cards which make future quests more difficult.\\nThe Standalone Scenarios are one-off quests released without any playing cards. Fantasy Flight Games usually releases one to coincide with their Gen Con event and their Fellowship (in the house) event. They have often been more difficult than a standard quest and allow the designers to experiment with ideas outside the confines of the main game.\\n\\nAdventure Pack Cycles continue the story of Deluxe Expansions, or, in the case of the Shadows of Mirkwood Cycle, the Base Game. Each Deluxe expansion provides encounter cards for three scenarios, and each Adventure Pack in the associated Cycle provides encounter cards for one more scenario. Both types of expansions also introduce new player cards. An Adventure pack consists of 60 fixed cards.\\n\\n\\n== Adventure Card Game ==\\nIn October 2017, Asmodee Digital and Fantasy Flight announced the formation of Fantasy Flight Interactive, a division of the merged companies to bring more of Fantasy Flight\\'s physical board games to digital implementations. Among the games, developed by the studio was The Lord of the Rings: Adventure Card Game. Fantasy Flight Interactive released it on 28 August 2018 with the title The Lord of the Rings Living Card Game in an early access phase. It was fully released on 29 August 2019 on PC and Mac (Steam), and by the end of the year on PlayStation 4, Xbox One, and Nintendo Switch (developed by Virtuos) with cross-platform play. In December 2019 (Steam) and early 2020 (other platforms) it was upgraded under the title The Lord of the Rings: Adventure Card Game - Definitive Edition which includes all additional content as well as a new mode. However, as part of company-wide layoffs, the Fantasy Flight Interactive division was closed down in January 2020. Following the closure of Fantasy Flight Interactive, by February 2020, Asmodee announced that it was opening up its library of board games to be made into digital versions through licensing options to any developer. Since mid-2020, the game\\'s developing was continued by Antihero Studios, who made a major update in October 2020 introducing offline play mode and new Adventure mode with free pack \"The Fords of Isen\" among others.\\nThe game is not a direct adaptation but heavily inspired by the original card game. It has campaign stories, adventures, and quests that are narrated and with different paths, characters who are voiced, and dynamic reactions by the artificial intelligence of Sauron (and Saruman) in three difficulty levels (standard, advanced, and expert). It is based on player versus environment experience (PvE) intended for a solo player and online co-op. Decks are composed of 3 heroes and 30 common cards out of many heroes and different card types (allies, attachments, and events), with all the cards divided into four categories (purple \"leadership\", green \"lore\", blue \"spirit\", and red \"tactics\"), which the player can combine in deck building making various decks besides the pre-built decks with different styles of play. The cards have a cost value to play, with characters having an attack, health, and willpower number, with the latter used for completing objectives or raising the player\\'s meter to activate bonus abilities. Sauron also has his own cards and \"threat\" meter which uses to activate bonus events and when full makes an automatic defeat of the player. Each round, the player and the enemy take turns playing a single action until all playable options are exhausted.\\n\\n\\n== Reception ==\\nBoth versions were released to positive reception. The 2018 Zatu Games review gave a score of 85 out of 100 to the tabletop version, praising the quality of the thematic content, artwork, game structure, challenges that are replayable by different approaches, and player interaction, making it especially attractive to those wanting to explore the world of Middle-earth. However both with review by HCL, noted it\\'s needed to keep in mind it has a demanding learning curve to successfully beat the game and the number of expansions. It received several nominations at the Golden Geek Awards for the best card game, thematic board game, board game artwork/presentation, and 2-player board game category.\\nThe digital version on review aggregator website Metacritic has a score of 70-75 out of 100 based on few reviews published before the release of the definitive edition in December 2019. Although still not as expansive in content as the tabletop version, they praised that the game is bringing a new PvE and cooperative gameplay to the digital collectible card game industry, the art, story-telling, voice acting, and game mechanic which cards are a bit simplified in comparison to tabletop due to the format, having resemblance to Hearthstone, but none the less complexity and strategy to tabletop. Chris Carter writing for Destructoid found it \"one of the most enjoyable games I\\'ve ever experienced, tabletop or otherwise\" and concluded that the way Living Card Game (LCG) genre is created and developed through the game \"could be a guiding light in an increasingly predatory industry. With loot box legislation around the corner ... it may launch at a perfect time\".\\n\\n\\n== See also ==\\nMiddle-earth Collectible Card Game (out-of-print)\\nThe Lord of the Rings Trading Card Game (out-of-print)\\n\\n\\n== References ==\\n\\n\\n== External links ==\\nThe Card Game Official Website\\nAdventure Card Game Official Website\\nLord of the Rings: The Card Game   at BoardGameGeek', 'maxPlayers': 5.0, 'minAge': 14.0, 'minPlayTime': 60.0, 'title': 'The Lord of the Rings: Journeys in Middle-Earth', 'subtitle': 'Heroes explore Middle-earth, working together to combat evil in an epic campaign.', 'minPlayers': 1.0, 'primaryType': 'Thematic', 'secondaryType': 'NaN'}\n",
            "Distance: 0.13970500230789185\n",
            "Properties: {'bestPlayers': 2.0, 'description': 'Race for the Galaxy (RftG), or simply Race, is a card game designed by Thomas Lehmann. It was released in 2007 by Rio Grande Games. Its theme is to build galactic civilizations via game cards that represent worlds or technical and social developments. It accommodates two to four players by default although expansions allow for up to six players, as well as solo play. The game uses iconography in place of language in some places, with complex powers also having a text description. While appreciated by experienced players for being concise, some new players find the icons difficult to learn and to decipher.\\nThe game won Boardgamegeek\\'s Golden Geek Award for best card game, Fairplay Magazine\\'s À la carte award for best card game of 2008, and was described by the magazine Tric Trac as \"Le jeu de cartes de cette année 2008\" (The card game of the year 2008).\\n\\n\\n== Development ==\\nRace for the Galaxy by Thomas Lehmann began as a card game version of Puerto Rico, with Thomas Lehmann working on his own and in cooperation with Andreas Seyfarth, and while Lehmann\\'s version did not make it into publication as San Juan in 2004, he continued work on the game and added a space-themed customizable card game and this was ultimately released as Race for the Galaxy by Rio Grande Games. \\n\\n\\n== Gameplay ==\\nLike many other Euro-style games, players win Race by having the most victory points at game end. VPs come from three sources: worlds and developments placed on a player\\'s tableau, and VP chips earned by consuming goods from worlds. To place a world or development, players pay a cost in cards from their hand. Keeping a steady income of new cards throughout the game is important to victory.\\n\\n\\n=== Phase selection ===\\nAt the start of each round, all players simultaneously and secretly choose one of five phases: Explore, Develop, Settle, Consume, or Produce. Selections are revealed simultaneously. The only phases which actually occur in a round are those selected by players. Additionally, the players who picked a certain phase get a special bonus during that phase, such as the ability to look at more cards during the Explore phase.\\nEvery card in play has powers which are active during various phases. For instance, the development \"Investment Credits\" has a Develop power which makes placing developments one card cheaper.\\n\\n\\n=== Round play ===\\nWithin a round, phases (those selected by players) happen in the following order:\\n\\nExplore – Draw two cards and keep one.\\nDevelop – Play a development.\\nSettle – Play a world, either by paying to take it peacefully or by military conquest.\\nConsume – \"Ship\" resources for cards and VPs. As a bonus activity, players can Trade a resource to earn many cards, but no VPs.\\nProduce – Put a good (a face-down card from the deck) on all production worlds that do not have one.\\nAfter all phases are complete, players discard down to a hand limit of 10 cards. Unusually among card games, cards discarded due to the hand limit or when paying a cost are placed face-down (in a \"messy\" pile to distinguish them from the draw deck), concealing information that could be used to deduce upcoming draws.\\nPlay continues until, at the end of a round, either at least one player has 12 or more cards in their tableau, or the entire starting pool of victory point tokens has been claimed by the players. At that point, the player with the highest total of victory points from tokens and from cards in their tableau is the winner.\\n\\n\\n=== Race vs. other titles ===\\nThe play style of the game is similar to that of another Rio Grande game, San Juan, which is the card game version of the board game Puerto Rico. Lehmann, Race\\'s designer, developed his own card game version of Puerto Rico at the request of the publisher. Some of its ideas were incorporated in San Juan. Later, Lehmann used those ideas to create a different game, one of space exploration, settlement, and conquest rather than development in the colonial Caribbean.\\nThe principal difference in the playing sequence between Race and Puerto Rico/San Juan is that in the latter games, a given phase can only be chosen by one player each round, and the order of activities is based on player order and the phases each player picks in succession; in Race, multiple players may choose the same phase, and the order of activity execution is fixed.\\nWei-Hwa Huang, who is credited as a development assistant for Race, went on to become the primary designer of Roll for the Galaxy (assisted by Tom Lehmann). In this adaptation six-sided dice represent a player\\'s workers, with rolls determining what phases workers are placed in.\\n\\n\\n== Expansions ==\\n\\nDuring playtesting, plans were made for two expansions to add more variety to gameplay, shore up certain strategies, and to accommodate more players. The game\\'s success prompted the publisher to request a third expansion, as well as new expansions not requiring the original trio.\\nCurrently there are five expansions for Race. The first three expansions, Gathering Storm, Rebel vs Imperium, and The Brink of War, comprise the first expansion arc. These expansions thematically focus on a struggle for galactic control between the militarily powerful Imperium and a Rebel uprising. The second arc, which is designed to be played separately from the first, includes only the expansion Alien Artifacts, about the revival of long-dead Alien overseer technology. In the third arc the Xeno Invasion set chronicles a catastrophic invasion by monstrous \"Xenos\" from a distant world.\\nAll the expansions provide new game cards, starting worlds, and support for at least five players. Many new mechanics also interact with base set keywords, such as \"Rebel\" or \"Uplift\".\\n\\n\\n=== The Gathering Storm ===\\nThe first expansion adds components for a fifth player, additional cards, goals (opportunities to gain extra victory points chosen at random at game start), and rules and components for solo play (against a \"robot\" player).\\n\\n\\n=== Rebel vs Imperium ===\\nThe second expansion is intended for use with the first expansion. It adds components for a sixth player, more cards and goals, and direct player interaction in takeovers of other players\\' military worlds; players who refrain from playing certain cards are immune to conquest. Takeovers are optional and the rules for this expansion encourage trying the game both with and without them. This set also introduces many new Rebel and Imperium Cards and introduces a special two-player scenario where one player takes the role of The Imperium while the other starts with a Rebel homeworld. In this variant the starting hands consist partly of Imperium/Rebel cards and takeovers are allowed.\\n\\n\\n=== The Brink of War ===\\nThe third expansion adds still more cards, and goals, as well as a new mechanic called galactic prestige. Each round the player(s) with the most prestige earn an additional victory point and possibly a card. Each prestige is worth one victory point at the end of the game, and many of the new cards allow prestige to be spent (for victory points, cards, or other effects). Additionally, a new \"once-per-game\" action is introduced that allows the user to search the deck for a card meeting a specific stated requirement, or to enhance the bonus the user earns in a round (at the cost of one prestige). The set further extends takeover options: the Interstellar Casus Belli development can allow attacks against anyone, and the Imperium Planet Buster can destroy enemy worlds outright.\\n\\n\\n=== Alien Artifacts ===\\nThe fourth expansion is used with only the base game and was released during 2013. It includes new explore powers and an optional \"orb game\" in which players explore for victory points and new powers. Some players have criticized the gameplay of the orb game while praising the game cards in the set, saying that the orb makes the overall game play non-simultaneously and last too long.\\n\\n\\n=== Xeno Invasion ===\\nThe fifth expansion, published 2015, is for use with the base game only. According to Lehmann, \"XI is aimed at intermediate players\" and has the most new base cards of any expansion so far. It allows for up to 5 players, and in addition to new world and development cards it includes an optional \"Invasion Game\", in which players must defeat three waves of Xeno alien invaders. Players can earn bonuses by contributing to the war effort, but the game can also end in two new ways: repulsing the Xeno threat or losing to the invaders.\\n\\n\\n== Reception ==\\nRace for the Galaxy was a finalist for the best \"Traditional Card Game\" at the Origins Awards.\\nArjun Sukumaran said that \"Thomas Lehmann has received abundant acclaim over the course of his game design career, most notably for his excellent Race for the Galaxy - a game many would consider to be the best card game around.\"\\nMatthew Monagle for /Film said in 2021 that \"it is a testament to Thomas Lehmann\\'s design that a game released in 2007, an eternity ago in board game years, can still compete with the big boys a decade-plus later.\"\\n\\n\\n== References ==\\n\\n\\n== External links ==\\nRio Grande Games: Race for the Galaxy\\nRace for the Galaxy   at BoardGameGeek\\nKeldon\\'s AI began an open source program for Windows, Macintosh, and Linux, implementing Race for the Galaxy against human and AI opponents. While unofficial, the project has been specifically allowed by Lehmann and Rio Grande. The most recent version can be found at github.\\nA Race for the Galaxy app was released in 2017, on Steam/iOS/Android, for PC/mobile/tablets. As of early 2018 the first arc of expansions are available as in-app purchases.', 'maxPlayers': 4.0, 'minAge': 12.0, 'minPlayTime': 30.0, 'title': 'Race for the Galaxy', 'subtitle': \"Worlds await! Colonize, develop and conquer taking advantage of others' choices.\", 'minPlayers': 2.0, 'primaryType': 'Strategy', 'secondaryType': 'NaN'}\n",
            "Distance: 0.1780233383178711\n"
          ]
        }
      ]
    },
    {
      "cell_type": "code",
      "source": [
        "#\n",
        "# Generator\n",
        "#\n",
        "client.connect()\n",
        "generate_prompt = \"Tell me why this is a suitable game based on what I am looking for, and why this game is so much fun, include a brief summary of the game\"\n",
        "\n",
        "response = game.generate.near_text(\n",
        "    query=\"fantasy adventure card game\",\n",
        "    grouped_task=generate_prompt,\n",
        "    limit=1\n",
        ")\n",
        "\n",
        "print(f'Generated output: {response.generated}')\n",
        "print_response_objects(response.objects)\n"
      ],
      "metadata": {
        "colab": {
          "base_uri": "https://localhost:8080/"
        },
        "id": "cqOWT4OEUv1G",
        "outputId": "3a55b4a5-5e20-4434-c6bd-abb03c0d9291"
      },
      "execution_count": 9,
      "outputs": [
        {
          "output_type": "stream",
          "name": "stdout",
          "text": [
            "Generated output: The Lord of the Rings: Journeys in Middle-Earth is a suitable game for you if you are looking for a cooperative and strategic card game set in the fantasy world of Middle-earth. This game allows players to work together against the forces of Sauron, rather than competing against each other, which can be a refreshing change of pace. The deck construction aspect of the game adds depth and customization, allowing players to create their own unique strategies.\n",
            "\n",
            "The game is a lot of fun because it immerses players in the rich world of Middle-earth, with thematic content, artwork, and challenges that are replayable in different ways. The cooperative gameplay and player interaction make it engaging and exciting to explore the epic campaign. The digital version of the game also brings a new PvE and cooperative gameplay experience to the digital collectible card game industry.\n",
            "\n",
            "In summary, The Lord of the Rings: Journeys in Middle-Earth is a thrilling and immersive game where heroes explore Middle-earth, working together to combat evil in an epic campaign. With its cooperative gameplay, strategic depth, and rich thematic content, it offers a unique and enjoyable gaming experience for fans of The Lord of the Rings universe.\n",
            "Properties: {'bestPlayers': 2.0, 'description': 'The Lord of the Rings: The Card Game is a non-collectible customizable card game produced by Fantasy Flight Games. As part of the Living Card Game (LCG) genre, it is a cooperative and strategic card game set in Middle-earth, a fantasy world featured in literary works by J. R. R. Tolkien, including The Hobbit and The Lord of the Rings. Its digital adaptation, titled The Lord of the Rings: Adventure Card Game, is published by Asmodee Digital for cross-platform play on Microsoft Windows, macOS, PlayStation 4, Xbox One and Nintendo Switch, being the \"first ever digital LCG\".\\n\\n\\n== Mechanics ==\\nLike other card games in Fantasy Flight\\'s \"Living Card Game\" line, it has deck construction and regularly released expansions similar to a collectible card game, but without the randomized card distribution.\\nThe game may be played either solitaire or with a group. Up to 2 players can play the game with a single core set, and up to 4 players can play with an additional core set. Unlike most card games of this type, this game is a cooperative game; the players are not opponents, but work together against an \"encounter deck\" which represents the forces of Sauron and produces the obstacles that the players have to conquer.\\nEach player has their own cards: their heroes (up to 3) which start in play, and a deck of at least 50 cards, composed of Allies, Attachments (such as weapons, armor, and other items), and Events. Although the core set comes with pre-constructed decks, deck construction is a major aspect of the game, and many players build their own decks, utilising cards from the various expansions.\\n\\n\\n== Community ==\\nThe Lord of the Rings Living Card Game has an active following, with multiple podcasts and blogs dedicated to discussing gameplay, strategy, deck-building, and news, as well as providing custom content. Podcasts include Cardboard of the Rings, The Grey Company, and The Mouth of Sauron. Blogs include Tales From the Cards, Hall of Beorn, Master of Lore, Dor Cuarthol, and Vision of the Palantir.\\n\\n\\n== Expansions ==\\nThere are several types of expansion to this game. Each Deluxe Expansion (and the core set) contain 3 quests and begins a new cycle, which usually shares a mechanical or story-driven theme. These releases are supplemented by 6 Adventure Packs for a total of 9 quests per cycle. The Hero and Campaign Expansions combine a cycle\\'s Deluxe Expansion and its related Adventure packs (i.e. The Lost Realm expansion and the six Angmar Awakened packs) into two products, while also adding campaign cards. The Saga Expansions follow the story of The Hobbit and The Lord of the Rings, with the initial time-frame for the game the 17 years between Bilbo leaving The Shire and Frodo following him. The latter introduced a mode of play called Campaign mode allowing for some degree of permanence between the quests telling the story. Players can earn powerful \"Boon\" cards, which can be used in the following quests, as well as \"Burden\" cards which make future quests more difficult.\\nThe Standalone Scenarios are one-off quests released without any playing cards. Fantasy Flight Games usually releases one to coincide with their Gen Con event and their Fellowship (in the house) event. They have often been more difficult than a standard quest and allow the designers to experiment with ideas outside the confines of the main game.\\n\\nAdventure Pack Cycles continue the story of Deluxe Expansions, or, in the case of the Shadows of Mirkwood Cycle, the Base Game. Each Deluxe expansion provides encounter cards for three scenarios, and each Adventure Pack in the associated Cycle provides encounter cards for one more scenario. Both types of expansions also introduce new player cards. An Adventure pack consists of 60 fixed cards.\\n\\n\\n== Adventure Card Game ==\\nIn October 2017, Asmodee Digital and Fantasy Flight announced the formation of Fantasy Flight Interactive, a division of the merged companies to bring more of Fantasy Flight\\'s physical board games to digital implementations. Among the games, developed by the studio was The Lord of the Rings: Adventure Card Game. Fantasy Flight Interactive released it on 28 August 2018 with the title The Lord of the Rings Living Card Game in an early access phase. It was fully released on 29 August 2019 on PC and Mac (Steam), and by the end of the year on PlayStation 4, Xbox One, and Nintendo Switch (developed by Virtuos) with cross-platform play. In December 2019 (Steam) and early 2020 (other platforms) it was upgraded under the title The Lord of the Rings: Adventure Card Game - Definitive Edition which includes all additional content as well as a new mode. However, as part of company-wide layoffs, the Fantasy Flight Interactive division was closed down in January 2020. Following the closure of Fantasy Flight Interactive, by February 2020, Asmodee announced that it was opening up its library of board games to be made into digital versions through licensing options to any developer. Since mid-2020, the game\\'s developing was continued by Antihero Studios, who made a major update in October 2020 introducing offline play mode and new Adventure mode with free pack \"The Fords of Isen\" among others.\\nThe game is not a direct adaptation but heavily inspired by the original card game. It has campaign stories, adventures, and quests that are narrated and with different paths, characters who are voiced, and dynamic reactions by the artificial intelligence of Sauron (and Saruman) in three difficulty levels (standard, advanced, and expert). It is based on player versus environment experience (PvE) intended for a solo player and online co-op. Decks are composed of 3 heroes and 30 common cards out of many heroes and different card types (allies, attachments, and events), with all the cards divided into four categories (purple \"leadership\", green \"lore\", blue \"spirit\", and red \"tactics\"), which the player can combine in deck building making various decks besides the pre-built decks with different styles of play. The cards have a cost value to play, with characters having an attack, health, and willpower number, with the latter used for completing objectives or raising the player\\'s meter to activate bonus abilities. Sauron also has his own cards and \"threat\" meter which uses to activate bonus events and when full makes an automatic defeat of the player. Each round, the player and the enemy take turns playing a single action until all playable options are exhausted.\\n\\n\\n== Reception ==\\nBoth versions were released to positive reception. The 2018 Zatu Games review gave a score of 85 out of 100 to the tabletop version, praising the quality of the thematic content, artwork, game structure, challenges that are replayable by different approaches, and player interaction, making it especially attractive to those wanting to explore the world of Middle-earth. However both with review by HCL, noted it\\'s needed to keep in mind it has a demanding learning curve to successfully beat the game and the number of expansions. It received several nominations at the Golden Geek Awards for the best card game, thematic board game, board game artwork/presentation, and 2-player board game category.\\nThe digital version on review aggregator website Metacritic has a score of 70-75 out of 100 based on few reviews published before the release of the definitive edition in December 2019. Although still not as expansive in content as the tabletop version, they praised that the game is bringing a new PvE and cooperative gameplay to the digital collectible card game industry, the art, story-telling, voice acting, and game mechanic which cards are a bit simplified in comparison to tabletop due to the format, having resemblance to Hearthstone, but none the less complexity and strategy to tabletop. Chris Carter writing for Destructoid found it \"one of the most enjoyable games I\\'ve ever experienced, tabletop or otherwise\" and concluded that the way Living Card Game (LCG) genre is created and developed through the game \"could be a guiding light in an increasingly predatory industry. With loot box legislation around the corner ... it may launch at a perfect time\".\\n\\n\\n== See also ==\\nMiddle-earth Collectible Card Game (out-of-print)\\nThe Lord of the Rings Trading Card Game (out-of-print)\\n\\n\\n== References ==\\n\\n\\n== External links ==\\nThe Card Game Official Website\\nAdventure Card Game Official Website\\nLord of the Rings: The Card Game   at BoardGameGeek', 'maxPlayers': 5.0, 'minAge': 14.0, 'minPlayTime': 60.0, 'title': 'The Lord of the Rings: Journeys in Middle-Earth', 'subtitle': 'Heroes explore Middle-earth, working together to combat evil in an epic campaign.', 'minPlayers': 1.0, 'primaryType': 'Thematic', 'secondaryType': 'NaN'}\n",
            "Distance: None\n"
          ]
        }
      ]
    },
    {
      "cell_type": "code",
      "source": [
        "print(response.objects.)"
      ],
      "metadata": {
        "id": "_ww1ELvOM6YE"
      },
      "execution_count": null,
      "outputs": []
    },
    {
      "cell_type": "code",
      "source": [
        "#\n",
        "# Query Player Collection : pass game abjoct as query and return the player(s with the greatest similarity to the game)\n",
        "#\n",
        "\n",
        "\n",
        "\n",
        "test_game_profile = {'bestPlayers': 2.0, 'maxPlayers': 5.0, 'description': 'The Lord of the Rings: The Card Game is a non-collectible customizable card game produced by Fantasy Flight Games. As part of the Living Card Game (LCG) genre, it is a cooperative and strategic card game set in Middle-earth, a fantasy world featured in literary works by J. R. R. Tolkien, including The Hobbit and The Lord of the Rings. Its digital adaptation, titled The Lord of the Rings: Adventure Card Game, is published by Asmodee Digital for cross-platform play on Microsoft Windows, macOS, PlayStation 4, Xbox One and Nintendo Switch, being the \"first ever digital LCG\".\\n\\n\\n== Mechanics ==\\nLike other card games in Fantasy Flight\\'s \"Living Card Game\" line, it has deck construction and regularly released expansions similar to a collectible card game, but without the randomized card distribution.\\nThe game may be played either solitaire or with a group. Up to 2 players can play the game with a single core set, and up to 4 players can play with an additional core set. Unlike most card games of this type, this game is a cooperative game; the players are not opponents, but work together against an \"encounter deck\" which represents the forces of Sauron and produces the obstacles that the players have to conquer.\\nEach player has their own cards: their heroes (up to 3) which start in play, and a deck of at least 50 cards, composed of Allies, Attachments (such as weapons, armor, and other items), and Events. Although the core set comes with pre-constructed decks, deck construction is a major aspect of the game, and many players build their own decks, utilising cards from the various expansions.\\n\\n\\n== Community ==\\nThe Lord of the Rings Living Card Game has an active following, with multiple podcasts and blogs dedicated to discussing gameplay, strategy, deck-building, and news, as well as providing custom content. Podcasts include Cardboard of the Rings, The Grey Company, and The Mouth of Sauron. Blogs include Tales From the Cards, Hall of Beorn, Master of Lore, Dor Cuarthol, and Vision of the Palantir.\\n\\n\\n== Expansions ==\\nThere are several types of expansion to this game. Each Deluxe Expansion (and the core set) contain 3 quests and begins a new cycle, which usually shares a mechanical or story-driven theme. These releases are supplemented by 6 Adventure Packs for a total of 9 quests per cycle. The Hero and Campaign Expansions combine a cycle\\'s Deluxe Expansion and its related Adventure packs (i.e. The Lost Realm expansion and the six Angmar Awakened packs) into two products, while also adding campaign cards. The Saga Expansions follow the story of The Hobbit and The Lord of the Rings, with the initial time-frame for the game the 17 years between Bilbo leaving The Shire and Frodo following him. The latter introduced a mode of play called Campaign mode allowing for some degree of permanence between the quests telling the story. Players can earn powerful \"Boon\" cards, which can be used in the following quests, as well as \"Burden\" cards which make future quests more difficult.\\nThe Standalone Scenarios are one-off quests released without any playing cards. Fantasy Flight Games usually releases one to coincide with their Gen Con event and their Fellowship (in the house) event. They have often been more difficult than a standard quest and allow the designers to experiment with ideas outside the confines of the main game.\\n\\nAdventure Pack Cycles continue the story of Deluxe Expansions, or, in the case of the Shadows of Mirkwood Cycle, the Base Game. Each Deluxe expansion provides encounter cards for three scenarios, and each Adventure Pack in the associated Cycle provides encounter cards for one more scenario. Both types of expansions also introduce new player cards. An Adventure pack consists of 60 fixed cards.\\n\\n\\n== Adventure Card Game ==\\nIn October 2017, Asmodee Digital and Fantasy Flight announced the formation of Fantasy Flight Interactive, a division of the merged companies to bring more of Fantasy Flight\\'s physical board games to digital implementations. Among the games, developed by the studio was The Lord of the Rings: Adventure Card Game. Fantasy Flight Interactive released it on 28 August 2018 with the title The Lord of the Rings Living Card Game in an early access phase. It was fully released on 29 August 2019 on PC and Mac (Steam), and by the end of the year on PlayStation 4, Xbox One, and Nintendo Switch (developed by Virtuos) with cross-platform play. In December 2019 (Steam) and early 2020 (other platforms) it was upgraded under the title The Lord of the Rings: Adventure Card Game - Definitive Edition which includes all additional content as well as a new mode. However, as part of company-wide layoffs, the Fantasy Flight Interactive division was closed down in January 2020. Following the closure of Fantasy Flight Interactive, by February 2020, Asmodee announced that it was opening up its library of board games to be made into digital versions through licensing options to any developer. Since mid-2020, the game\\'s developing was continued by Antihero Studios, who made a major update in October 2020 introducing offline play mode and new Adventure mode with free pack \"The Fords of Isen\" among others.\\nThe game is not a direct adaptation but heavily inspired by the original card game. It has campaign stories, adventures, and quests that are narrated and with different paths, characters who are voiced, and dynamic reactions by the artificial intelligence of Sauron (and Saruman) in three difficulty levels (standard, advanced, and expert). It is based on player versus environment experience (PvE) intended for a solo player and online co-op. Decks are composed of 3 heroes and 30 common cards out of many heroes and different card types (allies, attachments, and events), with all the cards divided into four categories (purple \"leadership\", green \"lore\", blue \"spirit\", and red \"tactics\"), which the player can combine in deck building making various decks besides the pre-built decks with different styles of play. The cards have a cost value to play, with characters having an attack, health, and willpower number, with the latter used for completing objectives or raising the player\\'s meter to activate bonus abilities. Sauron also has his own cards and \"threat\" meter which uses to activate bonus events and when full makes an automatic defeat of the player. Each round, the player and the enemy take turns playing a single action until all playable options are exhausted.\\n\\n\\n== Reception ==\\nBoth versions were released to positive reception. The 2018 Zatu Games review gave a score of 85 out of 100 to the tabletop version, praising the quality of the thematic content, artwork, game structure, challenges that are replayable by different approaches, and player interaction, making it especially attractive to those wanting to explore the world of Middle-earth. However both with review by HCL, noted it\\'s needed to keep in mind it has a demanding learning curve to successfully beat the game and the number of expansions. It received several nominations at the Golden Geek Awards for the best card game, thematic board game, board game artwork/presentation, and 2-player board game category.\\nThe digital version on review aggregator website Metacritic has a score of 70-75 out of 100 based on few reviews published before the release of the definitive edition in December 2019. Although still not as expansive in content as the tabletop version, they praised that the game is bringing a new PvE and cooperative gameplay to the digital collectible card game industry, the art, story-telling, voice acting, and game mechanic which cards are a bit simplified in comparison to tabletop due to the format, having resemblance to Hearthstone, but none the less complexity and strategy to tabletop. Chris Carter writing for Destructoid found it \"one of the most enjoyable games I\\'ve ever experienced, tabletop or otherwise\" and concluded that the way Living Card Game (LCG) genre is created and developed through the game \"could be a guiding light in an increasingly predatory industry. With loot box legislation around the corner ... it may launch at a perfect time\".\\n\\n\\n== See also ==\\nMiddle-earth Collectible Card Game (out-of-print)\\nThe Lord of the Rings Trading Card Game (out-of-print)\\n\\n\\n== References ==\\n\\n\\n== External links ==\\nThe Card Game Official Website\\nAdventure Card Game Official Website\\nLord of the Rings: The Card Game   at BoardGameGeek', 'minAge': 14.0, 'minPlayTime': 60.0, 'title': 'The Lord of the Rings: Journeys in Middle-Earth', 'subtitle': 'Heroes explore Middle-earth, working together to combat evil in an epic campaign.', 'minPlayers': 1.0, 'secondaryType': 'NaN', 'primaryType': 'Thematic'}\n",
        "\n",
        "response = player.query.near_text(\n",
        "    query=f\"{test_game_profile}\",\n",
        "    limit=2,\n",
        "    return_metadata=MetadataQuery(distance=True)\n",
        ")\n",
        "\n",
        "for o in response.objects:\n",
        "    print(o.properties)\n",
        "    print(o.metadata.distance)"
      ],
      "metadata": {
        "colab": {
          "base_uri": "https://localhost:8080/"
        },
        "id": "Ozp-wBmyfZzQ",
        "outputId": "c09efdc7-3766-4cda-da89-b1c726fa5116"
      },
      "execution_count": 51,
      "outputs": [
        {
          "output_type": "stream",
          "name": "stdout",
          "text": [
            "{'age': 28.0, 'name': 'Regine', 'profile': 'Catan is my go-to game for its blend of strategy and social interaction. I relish the challenge of building settlements and trading resources with fellow players. Cooperative games that foster camaraderie are my favorite.', 'favoriteGame': 'Catan'}\n",
            "0.24472182989120483\n",
            "{'age': 22.0, 'favoriteGame': 'Risk', 'profile': 'Risk appeals to my adventurous spirit and strategic thinking. I enjoy plotting my conquests and engaging in epic battles with friends. Games that require long-term planning and diplomacy are my forte.', 'name': 'Sinclair'}\n",
            "0.24544823169708252\n"
          ]
        }
      ]
    },
    {
      "cell_type": "code",
      "source": [
        "#\n",
        "# Close client connection\n",
        "#\n",
        "\n",
        "client.close()"
      ],
      "metadata": {
        "id": "poYSZV9ghi2r"
      },
      "execution_count": null,
      "outputs": []
    },
    {
      "cell_type": "code",
      "source": [
        "#"
      ],
      "metadata": {
        "id": "HbZgmiOYhjcI"
      },
      "execution_count": null,
      "outputs": []
    },
    {
      "cell_type": "markdown",
      "source": [
        "#Continue on to: Part Two\n",
        "\n",
        "\n",
        "In the next section we will use Open AI function calling to process user input, and demo our workflow...\n",
        "\n"
      ],
      "metadata": {
        "id": "7YoDlVH_dZx9"
      }
    },
    {
      "cell_type": "code",
      "source": [],
      "metadata": {
        "id": "budp1u0teL5f"
      },
      "execution_count": null,
      "outputs": []
    }
  ]
}