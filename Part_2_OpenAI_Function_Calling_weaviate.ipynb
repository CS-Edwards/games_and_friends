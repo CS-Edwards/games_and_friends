{
  "nbformat": 4,
  "nbformat_minor": 0,
  "metadata": {
    "colab": {
      "provenance": [],
      "gpuType": "T4",
      "toc_visible": true,
      "authorship_tag": "ABX9TyNPGzUpfvAaHjiehHPEYYYK",
      "include_colab_link": true
    },
    "kernelspec": {
      "name": "python3",
      "display_name": "Python 3"
    },
    "language_info": {
      "name": "python"
    },
    "accelerator": "GPU"
  },
  "cells": [
    {
      "cell_type": "markdown",
      "metadata": {
        "id": "view-in-github",
        "colab_type": "text"
      },
      "source": [
        "<a href=\"https://colab.research.google.com/github/CS-Edwards/games_and_friends/blob/main/Part_2_OpenAI_Function_Calling_weaviate.ipynb\" target=\"_parent\"><img src=\"https://colab.research.google.com/assets/colab-badge.svg\" alt=\"Open In Colab\"/></a>"
      ]
    },
    {
      "cell_type": "markdown",
      "source": [
        "\n",
        "## Games and Friends 😊🎲\n",
        "\n",
        "Love board games? In this demo we build a workflow with Weaviate (Python v.4) and OpenAI to query our database suggests games to play and friends to play them with using natural language prompts.\n",
        "\n",
        "This demo is split into two parts (and two notebooks):\n",
        "\n",
        "-  Part 1: Weaviate Client and Generative Search\n",
        "-  *Part 2: Open AI Function Calling\n",
        "\n",
        "**THIS NOTEBOOK IS PART TWO.**"
      ],
      "metadata": {
        "id": "yVSZdSLGBc_W"
      }
    },
    {
      "cell_type": "markdown",
      "source": [
        "In this notebook we will:\n",
        "\n",
        "1. Connect to the Weaviate client database from Part 1\n",
        "2. Create functions to update and query the database\n",
        "3. Establish OpenAI Function Calling\n",
        "4. Demo games and friends\n"
      ],
      "metadata": {
        "id": "GYuYRoOYfmsL"
      }
    },
    {
      "cell_type": "code",
      "execution_count": 2,
      "metadata": {
        "colab": {
          "base_uri": "https://localhost:8080/"
        },
        "id": "bWfIPnANio89",
        "outputId": "92e350bd-cb3f-47cd-94d3-edaa6cf0c110"
      },
      "outputs": [
        {
          "output_type": "stream",
          "name": "stdout",
          "text": [
            "\u001b[2K     \u001b[90m━━━━━━━━━━━━━━━━━━━━━━━━━━━━━━━━━━━━━━━━\u001b[0m \u001b[32m325.2/325.2 kB\u001b[0m \u001b[31m2.3 MB/s\u001b[0m eta \u001b[36m0:00:00\u001b[0m\n",
            "\u001b[2K     \u001b[90m━━━━━━━━━━━━━━━━━━━━━━━━━━━━━━━━━━━━━━━━\u001b[0m \u001b[32m75.6/75.6 kB\u001b[0m \u001b[31m9.7 MB/s\u001b[0m eta \u001b[36m0:00:00\u001b[0m\n",
            "\u001b[2K     \u001b[90m━━━━━━━━━━━━━━━━━━━━━━━━━━━━━━━━━━━━━━━━\u001b[0m \u001b[32m40.0/40.0 kB\u001b[0m \u001b[31m4.5 MB/s\u001b[0m eta \u001b[36m0:00:00\u001b[0m\n",
            "\u001b[2K     \u001b[90m━━━━━━━━━━━━━━━━━━━━━━━━━━━━━━━━━━━━━━━━\u001b[0m \u001b[32m223.8/223.8 kB\u001b[0m \u001b[31m13.8 MB/s\u001b[0m eta \u001b[36m0:00:00\u001b[0m\n",
            "\u001b[2K     \u001b[90m━━━━━━━━━━━━━━━━━━━━━━━━━━━━━━━━━━━━━━━━\u001b[0m \u001b[32m2.3/2.3 MB\u001b[0m \u001b[31m23.2 MB/s\u001b[0m eta \u001b[36m0:00:00\u001b[0m\n",
            "\u001b[2K     \u001b[90m━━━━━━━━━━━━━━━━━━━━━━━━━━━━━━━━━━━━━━━━\u001b[0m \u001b[32m309.2/309.2 kB\u001b[0m \u001b[31m38.4 MB/s\u001b[0m eta \u001b[36m0:00:00\u001b[0m\n",
            "\u001b[2K     \u001b[90m━━━━━━━━━━━━━━━━━━━━━━━━━━━━━━━━━━━━━━━━\u001b[0m \u001b[32m77.9/77.9 kB\u001b[0m \u001b[31m10.4 MB/s\u001b[0m eta \u001b[36m0:00:00\u001b[0m\n",
            "\u001b[2K     \u001b[90m━━━━━━━━━━━━━━━━━━━━━━━━━━━━━━━━━━━━━━━━\u001b[0m \u001b[32m58.3/58.3 kB\u001b[0m \u001b[31m8.3 MB/s\u001b[0m eta \u001b[36m0:00:00\u001b[0m\n",
            "\u001b[?25h\u001b[31mERROR: pip's dependency resolver does not currently take into account all the packages that are installed. This behaviour is the source of the following dependency conflicts.\n",
            "cudf-cu12 24.4.1 requires protobuf<5,>=3.20, but you have protobuf 5.27.1 which is incompatible.\n",
            "google-ai-generativelanguage 0.6.4 requires protobuf!=3.20.0,!=3.20.1,!=4.21.0,!=4.21.1,!=4.21.2,!=4.21.3,!=4.21.4,!=4.21.5,<5.0.0dev,>=3.19.5, but you have protobuf 5.27.1 which is incompatible.\n",
            "google-api-core 2.11.1 requires protobuf!=3.20.0,!=3.20.1,!=4.21.0,!=4.21.1,!=4.21.2,!=4.21.3,!=4.21.4,!=4.21.5,<5.0.0.dev0,>=3.19.5, but you have protobuf 5.27.1 which is incompatible.\n",
            "google-cloud-aiplatform 1.52.0 requires protobuf!=3.20.0,!=3.20.1,!=4.21.0,!=4.21.1,!=4.21.2,!=4.21.3,!=4.21.4,!=4.21.5,<5.0.0dev,>=3.19.5, but you have protobuf 5.27.1 which is incompatible.\n",
            "google-cloud-bigquery-connection 1.12.1 requires protobuf!=3.20.0,!=3.20.1,!=4.21.0,!=4.21.1,!=4.21.2,!=4.21.3,!=4.21.4,!=4.21.5,<5.0.0dev,>=3.19.5, but you have protobuf 5.27.1 which is incompatible.\n",
            "google-cloud-bigquery-storage 2.25.0 requires protobuf!=3.20.0,!=3.20.1,!=4.21.0,!=4.21.1,!=4.21.2,!=4.21.3,!=4.21.4,!=4.21.5,<5.0.0dev,>=3.19.5, but you have protobuf 5.27.1 which is incompatible.\n",
            "google-cloud-datastore 2.15.2 requires protobuf!=3.20.0,!=3.20.1,!=4.21.0,!=4.21.1,!=4.21.2,!=4.21.3,!=4.21.4,!=4.21.5,<5.0.0dev,>=3.19.5, but you have protobuf 5.27.1 which is incompatible.\n",
            "google-cloud-firestore 2.11.1 requires protobuf!=3.20.0,!=3.20.1,!=4.21.0,!=4.21.1,!=4.21.2,!=4.21.3,!=4.21.4,!=4.21.5,<5.0.0dev,>=3.19.5, but you have protobuf 5.27.1 which is incompatible.\n",
            "google-cloud-functions 1.13.3 requires protobuf!=3.20.0,!=3.20.1,!=4.21.0,!=4.21.1,!=4.21.2,!=4.21.3,!=4.21.4,!=4.21.5,<5.0.0dev,>=3.19.5, but you have protobuf 5.27.1 which is incompatible.\n",
            "google-cloud-iam 2.15.0 requires protobuf!=3.20.0,!=3.20.1,!=4.21.0,!=4.21.1,!=4.21.2,!=4.21.3,!=4.21.4,!=4.21.5,<5.0.0dev,>=3.19.5, but you have protobuf 5.27.1 which is incompatible.\n",
            "google-cloud-language 2.13.3 requires protobuf!=3.20.0,!=3.20.1,!=4.21.0,!=4.21.1,!=4.21.2,!=4.21.3,!=4.21.4,!=4.21.5,<5.0.0dev,>=3.19.5, but you have protobuf 5.27.1 which is incompatible.\n",
            "google-cloud-resource-manager 1.12.3 requires protobuf!=3.20.0,!=3.20.1,!=4.21.0,!=4.21.1,!=4.21.2,!=4.21.3,!=4.21.4,!=4.21.5,<5.0.0dev,>=3.19.5, but you have protobuf 5.27.1 which is incompatible.\n",
            "google-cloud-translate 3.11.3 requires protobuf!=3.20.0,!=3.20.1,!=4.21.0,!=4.21.1,!=4.21.2,!=4.21.3,!=4.21.4,!=4.21.5,<5.0.0dev,>=3.19.5, but you have protobuf 5.27.1 which is incompatible.\n",
            "grpc-google-iam-v1 0.13.0 requires protobuf!=3.20.0,!=3.20.1,!=4.21.1,!=4.21.2,!=4.21.3,!=4.21.4,!=4.21.5,<5.0.0dev,>=3.19.5, but you have protobuf 5.27.1 which is incompatible.\n",
            "proto-plus 1.23.0 requires protobuf<5.0.0dev,>=3.19.0, but you have protobuf 5.27.1 which is incompatible.\n",
            "tensorflow 2.15.0 requires protobuf!=4.21.0,!=4.21.1,!=4.21.2,!=4.21.3,!=4.21.4,!=4.21.5,<5.0.0dev,>=3.20.3, but you have protobuf 5.27.1 which is incompatible.\n",
            "tensorflow-metadata 1.15.0 requires protobuf<4.21,>=3.20.3; python_version < \"3.11\", but you have protobuf 5.27.1 which is incompatible.\u001b[0m\u001b[31m\n",
            "\u001b[2K     \u001b[90m━━━━━━━━━━━━━━━━━━━━━━━━━━━━━━━━━━━━━━━━\u001b[0m \u001b[32m325.5/325.5 kB\u001b[0m \u001b[31m2.7 MB/s\u001b[0m eta \u001b[36m0:00:00\u001b[0m\n",
            "\u001b[?25h"
          ]
        }
      ],
      "source": [
        "!pip install -q -U weaviate-client # Python v.4\n",
        "!pip install -q openai"
      ]
    },
    {
      "cell_type": "code",
      "source": [
        "import weaviate\n",
        "import openai\n",
        "import pandas as pd\n",
        "import json\n",
        "\n",
        "from weaviate.classes.query import MetadataQuery\n",
        "from typing import Dict, Any, List, Optional, Tuple, Union\n",
        "\n"
      ],
      "metadata": {
        "id": "3YoJpbq0izHD"
      },
      "execution_count": 86,
      "outputs": []
    },
    {
      "cell_type": "code",
      "source": [
        "#@title ▶️ Load Local Utility Functions\n",
        "\n",
        "def execute_route_function(conv_result: any) -> any:\n",
        "    \"\"\"\n",
        "    Execute a route function based on the provided conversation result.\n",
        "\n",
        "    Args:\n",
        "        conv_result (any): The conversation result containing information about the function to execute.\n",
        "\n",
        "    Returns:\n",
        "        any: The result of executing the route function.\n",
        "\n",
        "    Extracts the name and arguments of the route function from the conversation result and then\n",
        "    dynamically executes the function using the extracted information.\n",
        "\n",
        "    Note:\n",
        "        - The function_name and function_args are extracted from the tool_calls attribute of the conversation result.\n",
        "        - The function_name is used to retrieve the actual function from the global namespace.\n",
        "        - The function_args are passed as arguments to the retrieved function.\n",
        "    \"\"\"\n",
        "\n",
        "    function_name = conv_result.tool_calls[0].function.name\n",
        "    function_args = json.loads(conv_result.tool_calls[0].function.arguments)\n",
        "    function = globals()[function_name]\n",
        "    return function(**function_args)\n",
        "\n",
        "\n",
        "def print_game(game_result: List[Any]) -> None:\n",
        "    \"\"\"\n",
        "    Print the title and description of each game in the game result.\n",
        "\n",
        "    Args:\n",
        "        game_result (List[Any]): List of objects representing games.\n",
        "            Each object should have properties 'title' and 'description'.\n",
        "    \"\"\"\n",
        "    for game_res in game_result:\n",
        "        # Print game title\n",
        "        print(game_res.properties['title'])\n",
        "\n",
        "        # Print game description\n",
        "        print(game_res.properties['description'])\n",
        "\n",
        "\n",
        "def print_player(player_result: List[Any]) -> None:\n",
        "    \"\"\"\n",
        "    Print the name of each player in the player result.\n",
        "\n",
        "    Args:\n",
        "        player_result (List[Any]): List of objects representing players.\n",
        "            Each object should have a property 'name'.\n",
        "    \"\"\"\n",
        "    for player_res in player_result:\n",
        "        # Print player name\n",
        "        print(player_res.properties['name'])\n",
        "\n",
        "\n",
        "\n",
        "def output_route(result: Union[Dict[str, Any], str]) -> None:\n",
        "    \"\"\"\n",
        "    Print the appropriate output based on the type of result.\n",
        "\n",
        "    Args:\n",
        "        result (Union[Dict[str, Any], str]): The result to be processed.\n",
        "            If it's a dictionary, it's assumed to contain 'generated_resp' and 'player_result' keys.\n",
        "            If it's a string, (a uuid from either inserting a game or player) print success message.\n",
        "    \"\"\"\n",
        "    if isinstance(result, dict):\n",
        "        print(\"It's game time! We recommend:\")\n",
        "        print(result['generated_resp'])\n",
        "        print(\"*************************\")\n",
        "        print(\"We think your friend(s)...\")\n",
        "        print_player(result['player_result'])\n",
        "        print(\"would love to play this with you!\")\n",
        "    else:\n",
        "        print(\"You've successfully updated the database\")\n"
      ],
      "metadata": {
        "cellView": "form",
        "id": "2Nv-nAVVikg4"
      },
      "execution_count": 85,
      "outputs": []
    },
    {
      "cell_type": "markdown",
      "source": [
        "### CLIENT: Weaviate Cloud Database"
      ],
      "metadata": {
        "id": "bgfnnfqQDLwL"
      }
    },
    {
      "cell_type": "code",
      "source": [
        "\n",
        "#\n",
        "# Set environment variables\n",
        "#\n",
        "\n",
        "# For Colab \"Secrets\"\n",
        "from google.colab import userdata\n",
        "\n",
        "URL = userdata.get(\"WCS_URL\")\n",
        "APIKEY = userdata.get(\"WCS_API_KEY\")\n",
        "OPENAIKEY = userdata.get(\"OPENAI\")\n"
      ],
      "metadata": {
        "id": "ARhlLNKTi3Hd"
      },
      "execution_count": 5,
      "outputs": []
    },
    {
      "cell_type": "code",
      "source": [
        "#\n",
        "# Connect to WCS instance\n",
        "#\n",
        "\n",
        "with weaviate.connect_to_wcs(\n",
        "    cluster_url=URL,\n",
        "    auth_credentials=weaviate.auth.AuthApiKey(APIKEY),\n",
        "    headers={\n",
        "        \"X-OpenAI-Api-Key\": OPENAIKEY\n",
        "    }\n",
        "  )as client:\n",
        "    print(f'Weaviate Client Ready: {client.is_ready()}')\n",
        "    print(f'Weaviate Client Connected: {client.is_connected()}')"
      ],
      "metadata": {
        "id": "HyCgGH8vi8hO",
        "colab": {
          "base_uri": "https://localhost:8080/"
        },
        "outputId": "4de0829c-343d-4545-aff4-e688616627b5"
      },
      "execution_count": 6,
      "outputs": [
        {
          "output_type": "stream",
          "name": "stdout",
          "text": [
            "Weaviate Client Ready: True\n",
            "Weaviate Client Connected: True\n"
          ]
        }
      ]
    },
    {
      "cell_type": "code",
      "source": [
        "#\n",
        "# Access collections\n",
        "#\n",
        "client.connect()\n",
        "game = client.collections.get(\"Game\")\n",
        "player = client.collections.get(\"Player\")"
      ],
      "metadata": {
        "id": "LF08HsGnjMae"
      },
      "execution_count": 23,
      "outputs": []
    },
    {
      "cell_type": "markdown",
      "source": [
        "### Function Summaries:\n",
        "\n",
        "- `insert_player():` Add player to database.\n",
        "- `find_player():` Query players from the database.\n",
        "- `insert_game():`  Add games to the database\n",
        "- `find_game():` Retrieve game from database and generate response\n",
        "- `find_players_and_games():` Controller function that first calls find_game, and then called find_player (s) based on the game result"
      ],
      "metadata": {
        "id": "qxieGplqg0Wq"
      }
    },
    {
      "cell_type": "code",
      "source": [
        "#@title ▶️ insert_player()\n",
        "\n",
        "\n",
        "#\n",
        "# Add a player\n",
        "#\n",
        "\n",
        "\n",
        "def insert_player(name: str, profile: str, favoriteGame: Optional[str] = None, age: int = 30 )-> str:\n",
        "    '''\n",
        "    Insert player data into a database.\n",
        "\n",
        "    Args:\n",
        "        name (str): The name of the player.\n",
        "        favoriteGame (str, optional): The favorite game of the player. Defaults to None.\n",
        "        age (int, optional): The age of the player. Defaults to 30.\n",
        "        profile (str): The player's profile.\n",
        "\n",
        "    Raises:\n",
        "        ValueError: If `name` or `profile` is not provided.\n",
        "    '''\n",
        "    if not name or not profile:\n",
        "        raise ValueError(\"Name and profile must be provided.\")\n",
        "\n",
        "    return player.data.insert(\n",
        "          properties={\n",
        "              \"name\": name,\n",
        "              \"age\": age,\n",
        "              \"favoriteGame\": favoriteGame,\n",
        "              \"profile\": profile\n",
        "          }\n",
        "      )\n",
        "\n"
      ],
      "metadata": {
        "id": "DoBbJueDjM1U",
        "cellView": "form"
      },
      "execution_count": 9,
      "outputs": []
    },
    {
      "cell_type": "code",
      "source": [
        "# test_player_overton_uuid = insert_player(\n",
        "#     name=\"Overton\",\n",
        "#     favoriteGame=\"Chess\",\n",
        "#     age=25,\n",
        "#     profile=\"Avid chess player with a passion for strategy.\"\n",
        "# )\n"
      ],
      "metadata": {
        "id": "SpqxY5Actnto"
      },
      "execution_count": 10,
      "outputs": []
    },
    {
      "cell_type": "code",
      "source": [
        "# print(type(test_player_overton_uuid))"
      ],
      "metadata": {
        "id": "wsXMta2bAy_i"
      },
      "execution_count": 11,
      "outputs": []
    },
    {
      "cell_type": "code",
      "source": [
        "# player.query.fetch_object_by_id(test_player_overton_uuid)"
      ],
      "metadata": {
        "id": "IUQdz3-r_Iln"
      },
      "execution_count": 12,
      "outputs": []
    },
    {
      "cell_type": "code",
      "source": [
        "#@title ▶️ find_player()\n",
        "\n",
        "\n",
        "#\n",
        "# Find (query) player/s\n",
        "#\n",
        "\n",
        "def find_players(game_obj) -> List:\n",
        "    '''\n",
        "    Find players based on game properties.\n",
        "\n",
        "    Args:\n",
        "        game_props (Dict[str, Any]): Dictionary containing game properties.\n",
        "\n",
        "    Returns:\n",
        "        List: List containing response objects.\n",
        "    '''\n",
        "    response = player.query.near_text(\n",
        "        query=f\"{game_obj}\",\n",
        "        limit=int(game_obj.properties['bestPlayers']),\n",
        "        return_metadata=MetadataQuery(distance=True)\n",
        "    )\n",
        "\n",
        "    response_list = []\n",
        "    for o in response.objects:\n",
        "        response_list.append(o)\n",
        "\n",
        "    return response_list\n",
        "\n",
        "\n",
        "\n"
      ],
      "metadata": {
        "id": "M0QoeS9bnaCG"
      },
      "execution_count": 13,
      "outputs": []
    },
    {
      "cell_type": "code",
      "source": [
        "\n",
        "# players_list = find_players(game_result)\n",
        "# for player_obj in players_list:\n",
        "#     print(player_obj.properties)\n",
        "#     print(player_obj.metadata.distance)"
      ],
      "metadata": {
        "id": "IVSIB675naDU"
      },
      "execution_count": 14,
      "outputs": []
    },
    {
      "cell_type": "code",
      "source": [
        "#@title ▶️ insert_game()\n",
        "\n",
        "#\n",
        "# Add game\n",
        "#\n",
        "\n",
        "def insert_game(title: str, description: str, subtitle: str = None,\n",
        "                primaryType: Optional[str] = None, secondaryType: Optional[str] = None,\n",
        "                minPlayers: int = 1, maxPlayers: int = 3, bestPlayers: int = 2,\n",
        "                minPlayTime: int = 10, minAge: int = 12)->str:\n",
        "    '''\n",
        "    Insert game data into a database.\n",
        "\n",
        "    Args:\n",
        "        title (str): The title of the game.\n",
        "        description (str): The description of the game.\n",
        "        subtitle (str): The subtitle of the game. Defaults to None.\n",
        "        primaryType (str, optional): The primary type of the game. Defaults to None.\n",
        "        secondaryType (str, optional): The secondary type of the game. Defaults to None.\n",
        "        minPlayers (int): The minimum number of players for the game. Defaults to 1.\n",
        "        maxPlayers (int): The maximum number of players for the game. Defaults to 3.\n",
        "        bestPlayers (int): The recommended number of players for the game. Defaults to 2.\n",
        "        minPlayTime (int): The minimum playtime for the game in minutes. Defaults to 10.\n",
        "        minAge (int): The minimum age required to play the game. Defaults to 12.\n",
        "\n",
        "    Raises:\n",
        "        ValueError: If any required argument is not provided.\n",
        "    '''\n",
        "    if not all((title, description)):\n",
        "        raise ValueError(\"Title, and description must be provided.\")\n",
        "\n",
        "    return game.data.insert(\n",
        "        properties={\n",
        "            \"title\": title,\n",
        "            \"subtitle\": subtitle,\n",
        "            \"primaryType\": primaryType,\n",
        "            \"secondaryType\": secondaryType,\n",
        "            \"description\": description,\n",
        "            \"minPlayers\": minPlayers,\n",
        "            \"maxPlayers\": maxPlayers,\n",
        "            \"bestPlayers\": bestPlayers,\n",
        "            \"minPlayTime\": minPlayTime,\n",
        "            \"minAge\": minAge\n",
        "        }\n",
        "    )\n"
      ],
      "metadata": {
        "id": "_VFqlBKkm64S",
        "cellView": "form"
      },
      "execution_count": 15,
      "outputs": []
    },
    {
      "cell_type": "code",
      "source": [
        "# test_game_uno_uuid = insert_game(\n",
        "#     title=\"Uno\",\n",
        "#     subtitle=\"The classic card game\",\n",
        "#     description=\"UNO is a multi-player card game in which the objective is to be the \\\n",
        "#                 player to get rid of all the cards in their hand. Each player is dealt \\\n",
        "#                 7 cards and players take turn drawing cards from the deck.\",\n",
        "#     primaryType=\"Card Game\",\n",
        "#     minPlayers=2,\n",
        "#     maxPlayers=10,\n",
        "#     bestPlayers=4,\n",
        "#     minPlayTime=30,\n",
        "#     minAge=6\n",
        "# )\n",
        "\n",
        "# print(test_game_uno_uuid)"
      ],
      "metadata": {
        "id": "QJnqgSrRtNEU"
      },
      "execution_count": 16,
      "outputs": []
    },
    {
      "cell_type": "code",
      "source": [
        "# game_result = game.query.fetch_object_by_id(test_game_uno_uuid)\n",
        "# print(game_result.properties['bestPlayers'])"
      ],
      "metadata": {
        "id": "uO3ukfARCFYz"
      },
      "execution_count": 44,
      "outputs": []
    },
    {
      "cell_type": "code",
      "source": [
        "#@title ▶️ find_games()\n",
        "\n",
        "#\n",
        "#  Find (query) game/s\n",
        "#\n",
        "\n",
        "def find_games(query: str, limit: int = 1) -> List:\n",
        "    '''\n",
        "    Find games based on a user query.\n",
        "\n",
        "    Args:\n",
        "        query (str): The query to search for games.\n",
        "        limit (int, optional): Maximum number of games to return. Defaults to 1.\n",
        "\n",
        "    Returns:\n",
        "        List: List containing response objects.\n",
        "        Str: Generated response based on prompt.\n",
        "    '''\n",
        "    # response = game.query.near_text(\n",
        "    #     query=query,\n",
        "    #     limit=limit,\n",
        "    #     return_metadata=MetadataQuery(distance=True)\n",
        "    # )\n",
        "    generate_prompt = \"Tell me why this is a suitable game based on what I am looking for, and why this game is so much fun, include a brief summary of the game\"\n",
        "\n",
        "    response = game.generate.near_text(\n",
        "        query= query,\n",
        "        grouped_task=generate_prompt,\n",
        "        limit=limit\n",
        "    )\n",
        "\n",
        "    response_list = []\n",
        "    for o in response.objects:\n",
        "        response_list.append(o)\n",
        "\n",
        "    return response_list, response.generated  # Return the list containing the response objects, and generated response\n"
      ],
      "metadata": {
        "id": "QhClz6TWj_Bm"
      },
      "execution_count": 71,
      "outputs": []
    },
    {
      "cell_type": "code",
      "source": [
        "# find_game_result = find_games(\"Fun family game with mystery\", 2)\n",
        "# print(find_game_result)\n"
      ],
      "metadata": {
        "id": "jXYm3yUpjM4i"
      },
      "execution_count": 30,
      "outputs": []
    },
    {
      "cell_type": "code",
      "source": [
        "\n",
        "# for game_res in find_game_result:\n",
        "#   print(game_res.properties['title'])"
      ],
      "metadata": {
        "id": "yvC2x6EUjM83"
      },
      "execution_count": 18,
      "outputs": []
    },
    {
      "cell_type": "code",
      "source": [
        "#@title ▶️ find_players_and_games()\n",
        "\n",
        "def find_players_and_games(query: str) -> Dict[str, Tuple[List[str], List[str]]]:\n",
        "    \"\"\"\n",
        "    Find games based on the query and then find players for the first game.\n",
        "\n",
        "    Args:\n",
        "        query (str): The query string to search for games.\n",
        "\n",
        "    Returns:\n",
        "        dict: A dictionary containing game results and player results.\n",
        "            Keys:\n",
        "                - \"generated_response\": Response from generator.\n",
        "                - \"player_result\": A tuple containing a list of players found for the first game.\n",
        "    \"\"\"\n",
        "    game_result, generated_resp = find_games(query)\n",
        "    player_result = find_players(game_result[0])\n",
        "\n",
        "    return {\"generated_resp\": generated_resp, \"player_result\": player_result}\n"
      ],
      "metadata": {
        "id": "Un24OBZhINdS"
      },
      "execution_count": 32,
      "outputs": []
    },
    {
      "cell_type": "code",
      "source": [
        "player_game_result = find_players_and_games(\"family card game\")\n"
      ],
      "metadata": {
        "id": "OnSBSDqcK34p"
      },
      "execution_count": 72,
      "outputs": []
    },
    {
      "cell_type": "code",
      "source": [
        "player_game_result"
      ],
      "metadata": {
        "id": "wfktr8w2L7D9",
        "colab": {
          "base_uri": "https://localhost:8080/"
        },
        "outputId": "7ac089e9-fa50-430b-993e-4cccf26a398d"
      },
      "execution_count": 74,
      "outputs": [
        {
          "output_type": "execute_result",
          "data": {
            "text/plain": [
              "{'generated_resp': 'Clank!: Legacy – Acquisitions Incorporated is a suitable game for someone looking for a unique and immersive gaming experience. This game is based on the legacy format, where the game permanently changes over a series of sessions, introducing new rules and mechanics as the campaign progresses. \\n\\nIn this game, players take on the role of adventurers exploring a dungeon filled with treasures and dangers. The game incorporates elements of deck-building and strategy as players race to acquire the most valuable loot while avoiding traps and monsters. The legacy aspect of the game adds a new layer of excitement as players make permanent changes to the game board and components based on their choices and outcomes.\\n\\nThe game is not only fun because of its engaging gameplay mechanics, but also because of the storytelling aspect that evolves as the campaign unfolds. Players will feel a sense of accomplishment as they see the game world change and adapt to their decisions. Overall, Clank!: Legacy – Acquisitions Incorporated offers a unique and memorable gaming experience that is sure to keep players entertained and coming back for more.',\n",
              " 'player_result': [Object(uuid=_WeaviateUUIDInt('f4873ad5-643e-448c-a806-97cbd06e5956'), metadata=MetadataReturn(creation_time=None, last_update_time=None, distance=0.2411658763885498, certainty=None, score=None, explain_score=None, is_consistent=None, rerank_score=None), properties={'age': 22.0, 'favoriteGame': 'Risk', 'profile': 'Risk appeals to my adventurous spirit and strategic thinking. I enjoy plotting my conquests and engaging in epic battles with friends. Games that require long-term planning and diplomacy are my forte.', 'name': 'Sinclair'}, references=None, vector={}, collection='Player'),\n",
              "  Object(uuid=_WeaviateUUIDInt('4433efd4-0b57-415a-beeb-9a50e503d443'), metadata=MetadataReturn(creation_time=None, last_update_time=None, distance=0.26250386238098145, certainty=None, score=None, explain_score=None, is_consistent=None, rerank_score=None), properties={'age': 28.0, 'favoriteGame': 'Catan', 'profile': 'Catan is my go-to game for its blend of strategy and social interaction. I relish the challenge of building settlements and trading resources with fellow players. Cooperative games that foster camaraderie are my favorite.', 'name': 'Regine'}, references=None, vector={}, collection='Player'),\n",
              "  Object(uuid=_WeaviateUUIDInt('b18461b5-bce1-4229-8ee0-ecf574a53ae1'), metadata=MetadataReturn(creation_time=None, last_update_time=None, distance=0.2666062116622925, certainty=None, score=None, explain_score=None, is_consistent=None, rerank_score=None), properties={'age': 25.0, 'name': 'Khadijah', 'profile': 'I enjoy competitive games that involve strategy and negotiation. Monopoly is one of my favorite games because it allows me to showcase my business acumen and outwit my opponents.', 'favoriteGame': 'Monopoly'}, references=None, vector={}, collection='Player'),\n",
              "  Object(uuid=_WeaviateUUIDInt('03c1c6c7-1c08-4f87-8d6b-08f3bc1842ce'), metadata=MetadataReturn(creation_time=None, last_update_time=None, distance=0.26777273416519165, certainty=None, score=None, explain_score=None, is_consistent=None, rerank_score=None), properties={'age': 30.0, 'name': 'Max', 'profile': 'As a lover of words and puzzles, Scrabble is my go-to game. I thrive on the challenge of forming words and maximizing points. I also appreciate games that stimulate my mind and vocabulary.', 'favoriteGame': 'Scrabble'}, references=None, vector={}, collection='Player')]}"
            ]
          },
          "metadata": {},
          "execution_count": 74
        }
      ]
    },
    {
      "cell_type": "code",
      "source": [
        "#print_player(player_game_result[\"player_result\"])\n"
      ],
      "metadata": {
        "id": "_D9DgzNGLmAN"
      },
      "execution_count": 42,
      "outputs": []
    },
    {
      "cell_type": "markdown",
      "source": [
        "## Open AI Function Calling\n",
        "\n",
        "Open AI function calling is a tool that uses large language models (LLMs) to suggests a function and parameters that should be called based on the input query and the description(s) of the the function.\n",
        "\n",
        "For our use case we have added the `insert_game()`, `insert_player`, and `find_players_and_games` functions into the `tools` array of the `route_query` function below. In the `tools` array we provide the name, description and type of each function and their respective parameters. `route_query` uses `gpt 3.5`, to identify the most relevant function for a given natural langauge input, and extracts the parameters from the input.\n",
        "\n",
        "IMPORTANT NOTE: OpenAI function calling **DOES NOT** actually call/execute the function.\n",
        "\n",
        "We execute the functions suggested by function calling using a local utility method called : `execute_route_function()`\n",
        "\n",
        "\n",
        "**Resources**:\n",
        "- Open AI Function Calling: [Documentation](https://platform.openai.com/docs/guides/function-calling)"
      ],
      "metadata": {
        "id": "yhEPQxhWhURh"
      }
    },
    {
      "cell_type": "code",
      "source": [
        "#\n",
        "# Connect to Open AI Client\n",
        "#\n",
        "#\n",
        "\n",
        "\n",
        "\n",
        "from openai import OpenAI\n",
        "import os\n",
        "import json\n",
        "\n",
        "os.environ[\"OPENAI_API_KEY\"] = OPENAIKEY\n",
        "client = OpenAI()\n",
        "\n"
      ],
      "metadata": {
        "id": "QHJr8BX0jTdF"
      },
      "execution_count": 47,
      "outputs": []
    },
    {
      "cell_type": "code",
      "source": [
        "#\n",
        "# Open AI Function call setup with gpt-3.5-turbo-0125\n",
        "#\n",
        "\n",
        "\n",
        "def route_query(user_query:str)->str:\n",
        "    \"\"\"\n",
        "      Route user queries to either add games/players to Weaviate database or find (query) players and games based on a user query, providing recommendations for games and players likely to enjoy them.\n",
        "\n",
        "      Args:\n",
        "          query (str): The user's input query.\n",
        "\n",
        "      Returns:\n",
        "          Dict[str, List]: A dictionary containing the game result and player result.\n",
        "\n",
        "      This function initiates a conversation with OpenAI's language model, passing the user query and available functions.\n",
        "\n",
        "      Step 1: Send the conversation and available functions to the model.\n",
        "          - Each function is described with its name, description, and parameters.\n",
        "          - Three functions are available:\n",
        "              1. insert_player: For queries relating to adding players into the database.\n",
        "                Parameters include name, profile, favorite game, and age.\n",
        "              2. insert_game: For queries related to adding a game into the database.\n",
        "                Parameters include title, description, subtitle, primary type, secondary type,\n",
        "                min players, max players, best players, min playtime, and min age.\n",
        "              3. find_players_and_games: For queries requesting a recommendation for a game to play with friends.\n",
        "                The function returns a game based on the user's request and players that will likely enjoy the game.\n",
        "\n",
        "      Returns the response from the language model, specifically the first choice message from the available choices.\n",
        "      \"\"\"\n",
        "\n",
        "\n",
        "    messages = [{\"role\": \"user\", \"content\": user_query}]\n",
        "    tools = [\n",
        "        {\n",
        "            \"type\": \"function\",\n",
        "            \"function\": {\n",
        "                \"name\": \"insert_player\",\n",
        "                \"description\": \"For queries relating to adding players into database\",\n",
        "                \"parameters\": {\n",
        "                    \"type\": \"object\",\n",
        "                    \"properties\": {\n",
        "                        \"name\": {\n",
        "                            \"type\": \"string\",\n",
        "                            \"description\": \"The name of the player\",\n",
        "                        },\n",
        "\n",
        "                        \"profile\":{\n",
        "                            \"type\": \"string\",\n",
        "                            \"description\":\"About me, description of the player\"\n",
        "\n",
        "                        },\n",
        "\n",
        "                        \"favoriteGame\":{\n",
        "                            \"type\":\"string\",\n",
        "                            \"description\":\"The favorite game of the player. Defaults to None\",\n",
        "                        },\n",
        "\n",
        "                        \"age\":{\n",
        "                            \"type\":\"integer\",\n",
        "                            \"description\":\"The age of the player. Defaults to 30\"\n",
        "                        }\n",
        "                    },\n",
        "                    \"required\": [\"name\",\"profile\"],\n",
        "                },\n",
        "            },\n",
        "        },\n",
        "        {\n",
        "            \"type\": \"function\",\n",
        "            \"function\": {\n",
        "                \"name\": \"insert_game\",\n",
        "                \"description\": \"For queries related to adding a game into the database.\",\n",
        "                \"parameters\": {\n",
        "                    \"type\": \"object\",\n",
        "                    \"properties\": {\n",
        "                        \"title\": {\n",
        "                            \"type\": \"string\",\n",
        "                            \"description\": \"The title of the game\",\n",
        "                        },\n",
        "                        \"description\": {\n",
        "                            \"type\": \"string\",\n",
        "                            \"description\": \"Description of the game\",\n",
        "                        },\n",
        "                        \"subtitle\": {\n",
        "                            \"type\": \"string\",\n",
        "                            \"description\": \"Tagline of the game. Defaults to None\",\n",
        "                        },\n",
        "                        \"primaryType\": {\n",
        "                            \"type\": \"string\",\n",
        "                            \"description\": \"The primary type of the game (ie. mystery, fantasy, strategy). Defaults to None\",\n",
        "                        },\n",
        "                        \"secondaryType\": {\n",
        "                            \"type\": \"string\",\n",
        "                            \"description\": \"The secondary type of the game (ie. mystery, fantasy, strategy). Defaults to None\",\n",
        "                        },\n",
        "                        \"minPlayers\": {\n",
        "                            \"type\": \"integer\",\n",
        "                            \"description\": \"The minimum number of players for the game. Defaults to 1.\",\n",
        "                        },\n",
        "                        \"maxPlayers\": {\n",
        "                            \"type\": \"integer\",\n",
        "                            \"description\": \"The maximum number of players for the game. Defaults to 3.\",\n",
        "                        },\n",
        "                        \"bestPlayers\": {\n",
        "                            \"type\": \"integer\",\n",
        "                            \"description\": \"The recommended number of players for the game. Defaults to 2.\",\n",
        "                        },\n",
        "                        \"minPlayTime\": {\n",
        "                            \"type\": \"integer\",\n",
        "                            \"description\": \"The minimum playtime for the game in minutes. Defaults to 10.\",\n",
        "                        },\n",
        "                        \"minAge\": {\n",
        "                            \"type\": \"integer\",\n",
        "                            \"description\": \"The minimum age required to play the game. Defaults to 12.\",\n",
        "                        },\n",
        "                    },\n",
        "                    \"required\": [\"title\",\"description\"],\n",
        "                },\n",
        "            },\n",
        "        },\n",
        "        {\n",
        "            \"type\": \"function\",\n",
        "            \"function\": {\n",
        "                \"name\": \"find_players_and_games\",\n",
        "                \"description\": \"For queries requesting a recommendation for a game to play with friends, the function will return a game based on the users request and players that will likely enjoy the game \",\n",
        "                \"parameters\": {\n",
        "                    \"type\": \"object\",\n",
        "                    \"properties\": {\n",
        "                        \"query\": {\n",
        "                            \"type\": \"string\",\n",
        "                            \"description\": \"Input user query\",\n",
        "                        }\n",
        "                    },\n",
        "                    \"required\": [\"query\"],\n",
        "                },\n",
        "            },\n",
        "        }\n",
        "\n",
        "    ]\n",
        "    response = client.chat.completions.create(\n",
        "        model=\"gpt-3.5-turbo-0125\",\n",
        "        messages=messages,\n",
        "        tools=tools,\n",
        "        tool_choice=\"auto\",  # auto is default\n",
        "    )\n",
        "    return response.choices[0].message\n"
      ],
      "metadata": {
        "id": "fIohl65aPBIg"
      },
      "execution_count": 45,
      "outputs": []
    },
    {
      "cell_type": "code",
      "source": [
        "#\n",
        "# Test 1: Prompt to add new player to the database\n",
        "#\n",
        "# Expected Function: 'insert_player'\n",
        "# Expected Paramters: name = \"Kyle\", age = 25, favoriteGame = Poker, profile = \" Enjoys managing risk and making decision based on skill and analysis of incomplete information \" (or something similar)\n",
        "#\n",
        "\n",
        "\n",
        "query_1 = \"Kyle is a 25 year old stock broker his favorite game is Poker because it requires managing risk and making decision based on skill and analysis of incomplete information\"\n",
        "function_call_result_1 = route_query(query_1)\n"
      ],
      "metadata": {
        "id": "YzhN-u1COZpE"
      },
      "execution_count": 48,
      "outputs": []
    },
    {
      "cell_type": "code",
      "source": [
        "for tool_call in function_call_result_1.tool_calls:\n",
        "    if tool_call.function:\n",
        "        arguments_dict = eval(tool_call.function.arguments)\n",
        "        function_name = tool_call.function.name\n",
        "        arguments_str = \", \".join([f\"{key}={value}\" for key, value in arguments_dict.items()])\n",
        "        print(f\"function called: {function_name}() \\nparameters: {arguments_str}\")"
      ],
      "metadata": {
        "colab": {
          "base_uri": "https://localhost:8080/"
        },
        "id": "-lBrL0YWiAbY",
        "outputId": "b1f99e08-63e6-4c32-eea8-0769733eb594"
      },
      "execution_count": 49,
      "outputs": [
        {
          "output_type": "stream",
          "name": "stdout",
          "text": [
            "function called: insert_player() \n",
            "parameters: name=Kyle, profile=Kyle is a 25-year-old stock broker who enjoys games that require managing risk and making decisions based on skill and analysis of incomplete information., favoriteGame=Poker, age=25\n"
          ]
        }
      ]
    },
    {
      "cell_type": "code",
      "source": [
        "#\n",
        "# Test 2: Prompt to add new game to the database\n",
        "#\n",
        "# Expected Function: 'insert_game'\n",
        "# Required Paramters: title = \"Spades\", description = \"trick-taking card game where players bid on the number of tricks they can win each round and aim to fulfill their bid while preventing opponents from doing the same.\n",
        "# It requires strategic thinking, teamwork (in partnership variations), and careful card counting to outwit opponents and successfully fulfill bids. (or something similar)\n",
        "#\n",
        "\n",
        "\n",
        "query_2 = \"Add a new game: Spades is a classic trick-taking card game where players bid on the number of tricks they can win each round and aim to fulfill their \\\n",
        "bid while preventing opponents from doing the same. It requires strategic thinking, teamwork (in partnership variations), and careful card counting \\\n",
        "to outwit opponents and successfully fulfill bids.\"\n",
        "function_call_result_2 = route_query(query_2)"
      ],
      "metadata": {
        "id": "lq1z9WociAcl"
      },
      "execution_count": 50,
      "outputs": []
    },
    {
      "cell_type": "code",
      "source": [
        "function_call_result_2"
      ],
      "metadata": {
        "colab": {
          "base_uri": "https://localhost:8080/"
        },
        "id": "N7f2QQkbpwrN",
        "outputId": "1629d836-7b7f-4859-d48b-df442aaf7b48"
      },
      "execution_count": null,
      "outputs": [
        {
          "output_type": "execute_result",
          "data": {
            "text/plain": [
              "ChatCompletionMessage(content=None, role='assistant', function_call=None, tool_calls=[ChatCompletionMessageToolCall(id='call_2qt9rzW3Ka0Vern6JHGZIj9f', function=Function(arguments='{\"title\":\"Spades\",\"description\":\"Spades is a classic trick-taking card game where players bid on the number of tricks they can win each round and aim to fulfill their bid while preventing opponents from doing the same. It requires strategic thinking, teamwork (in partnership variations), and careful card counting to outwit opponents and successfully fulfill bids.\",\"primaryType\":\"Card Game\",\"minPlayers\":4,\"maxPlayers\":4,\"bestPlayers\":4,\"minPlayTime\":30,\"minAge\":12}', name='insert_game'), type='function')])"
            ]
          },
          "metadata": {},
          "execution_count": 79
        }
      ]
    },
    {
      "cell_type": "code",
      "source": [
        "for tool_call in function_call_result_2.tool_calls:\n",
        "    if tool_call.function:\n",
        "        arguments_dict = eval(tool_call.function.arguments)\n",
        "        function_name = tool_call.function.name\n",
        "        arguments_str = \", \".join([f\"{key}={value}\" for key, value in arguments_dict.items()])\n",
        "        print(f\"function called: {function_name}() \\nparameters: {arguments_str}\")"
      ],
      "metadata": {
        "colab": {
          "base_uri": "https://localhost:8080/"
        },
        "id": "0iII89eopqnY",
        "outputId": "cafa7eac-deee-4a76-863d-d815aff02c92"
      },
      "execution_count": null,
      "outputs": [
        {
          "output_type": "stream",
          "name": "stdout",
          "text": [
            "function called: insert_game() \n",
            "parameters: title=Spades, description=Spades is a classic trick-taking card game where players bid on the number of tricks they can win each round and aim to fulfill their bid while preventing opponents from doing the same. It requires strategic thinking, teamwork (in partnership variations), and careful card counting to outwit opponents and successfully fulfill bids., primaryType=Card Game, minPlayers=4, maxPlayers=4, bestPlayers=4, minPlayTime=30, minAge=12\n"
          ]
        }
      ]
    },
    {
      "cell_type": "code",
      "source": [
        "#\n",
        "# Test 3: Prompt to find a game to play and people to play with\n",
        "#\n",
        "# Expected Function: 'find_players_and_games'\n",
        "\n",
        "query_3 = \"An fantasy adventure game for a group of people\"\n",
        "function_call_result_3 = route_query(query_3)"
      ],
      "metadata": {
        "id": "DhB6UkdMqL7a"
      },
      "execution_count": 75,
      "outputs": []
    },
    {
      "cell_type": "code",
      "source": [
        "for tool_call in function_call_result_3.tool_calls:\n",
        "    if tool_call.function:\n",
        "        arguments_dict = eval(tool_call.function.arguments)\n",
        "        function_name = tool_call.function.name\n",
        "        arguments_str = \", \".join([f\"{key}={value}\" for key, value in arguments_dict.items()])\n",
        "        print(f\"function called: {function_name}() \\nparameters: {arguments_str}\")"
      ],
      "metadata": {
        "colab": {
          "base_uri": "https://localhost:8080/"
        },
        "id": "25bbChf0q8_u",
        "outputId": "034544db-15ec-45e0-bb03-34d6b26b0cbe"
      },
      "execution_count": 76,
      "outputs": [
        {
          "output_type": "stream",
          "name": "stdout",
          "text": [
            "function called: find_players_and_games() \n",
            "parameters: query=I am looking for a fantasy adventure game for a group of people\n"
          ]
        }
      ]
    },
    {
      "cell_type": "code",
      "source": [
        "#result_test = execute_route_function(function_call_result_3)\n"
      ],
      "metadata": {
        "id": "SrmPiAAAjFQZ"
      },
      "execution_count": 77,
      "outputs": []
    },
    {
      "cell_type": "code",
      "source": [
        "#print(result_test)"
      ],
      "metadata": {
        "id": "znyi3iGIjOje"
      },
      "execution_count": 79,
      "outputs": []
    },
    {
      "cell_type": "code",
      "source": [
        "#\n",
        "# Execute code\n",
        "#"
      ],
      "metadata": {
        "id": "ZbuY_UFarLKg"
      },
      "execution_count": null,
      "outputs": []
    },
    {
      "cell_type": "code",
      "source": [
        "# Test the function with the provided example\n",
        "result = execute_route_function(function_call_result_2)\n",
        "print(result)"
      ],
      "metadata": {
        "colab": {
          "base_uri": "https://localhost:8080/"
        },
        "id": "HWCOz5jgs4em",
        "outputId": "f994999f-d738-4a73-dc48-18af6ca5a49f"
      },
      "execution_count": 51,
      "outputs": [
        {
          "output_type": "stream",
          "name": "stdout",
          "text": [
            "51adbea0-1321-4043-b25e-d742e00a7a00\n"
          ]
        }
      ]
    },
    {
      "cell_type": "code",
      "source": [
        "print(type(result))"
      ],
      "metadata": {
        "colab": {
          "base_uri": "https://localhost:8080/"
        },
        "id": "JRYnO3mvcL_v",
        "outputId": "d2a6d4af-cc6b-44ea-a645-c3899b6b6ecd"
      },
      "execution_count": 52,
      "outputs": [
        {
          "output_type": "stream",
          "name": "stdout",
          "text": [
            "<class 'uuid.UUID'>\n"
          ]
        }
      ]
    },
    {
      "cell_type": "code",
      "source": [
        "result2 = execute_route_function(function_call_result_3)\n",
        "print(type(result2))\n"
      ],
      "metadata": {
        "colab": {
          "base_uri": "https://localhost:8080/"
        },
        "id": "ERuefy7Acj6e",
        "outputId": "bc65d69a-d0b1-4e15-d2b2-7070f355716a"
      },
      "execution_count": 54,
      "outputs": [
        {
          "output_type": "stream",
          "name": "stdout",
          "text": [
            "<class 'dict'>\n"
          ]
        }
      ]
    },
    {
      "cell_type": "code",
      "source": [
        "result2"
      ],
      "metadata": {
        "colab": {
          "base_uri": "https://localhost:8080/"
        },
        "id": "sU2sc_zVcvTn",
        "outputId": "5853f615-067f-41e9-b1af-cf56757bf2bf"
      },
      "execution_count": 55,
      "outputs": [
        {
          "output_type": "execute_result",
          "data": {
            "text/plain": [
              "{'generated_resp': \"The Lord of the Rings: Journeys in Middle-Earth is a suitable game for you if you are looking for a cooperative and strategic card game set in the fantasy world of Middle-earth. This game allows players to work together against the forces of Sauron, rather than competing against each other. The deck construction aspect of the game adds depth and customization, making each playthrough unique.\\n\\nThe game is a lot of fun because it immerses players in the rich world of J.R.R. Tolkien's literary works, with thematic content, artwork, and challenges that are replayable by different approaches. The cooperative gameplay and player interaction make it especially engaging for those who want to explore Middle-earth with friends.\\n\\nIn The Lord of the Rings: Journeys in Middle-Earth, players take on the roles of heroes exploring Middle-earth and combating evil in an epic campaign. With a variety of quests, adventures, and characters, the game offers a dynamic and immersive experience that will keep players coming back for more.\",\n",
              " 'player_result': [Object(uuid=_WeaviateUUIDInt('f4873ad5-643e-448c-a806-97cbd06e5956'), metadata=MetadataReturn(creation_time=None, last_update_time=None, distance=0.25171059370040894, certainty=None, score=None, explain_score=None, is_consistent=None, rerank_score=None), properties={'age': 22.0, 'name': 'Sinclair', 'profile': 'Risk appeals to my adventurous spirit and strategic thinking. I enjoy plotting my conquests and engaging in epic battles with friends. Games that require long-term planning and diplomacy are my forte.', 'favoriteGame': 'Risk'}, references=None, vector={}, collection='Player'),\n",
              "  Object(uuid=_WeaviateUUIDInt('4433efd4-0b57-415a-beeb-9a50e503d443'), metadata=MetadataReturn(creation_time=None, last_update_time=None, distance=0.2594817280769348, certainty=None, score=None, explain_score=None, is_consistent=None, rerank_score=None), properties={'age': 28.0, 'favoriteGame': 'Catan', 'profile': 'Catan is my go-to game for its blend of strategy and social interaction. I relish the challenge of building settlements and trading resources with fellow players. Cooperative games that foster camaraderie are my favorite.', 'name': 'Regine'}, references=None, vector={}, collection='Player')]}"
            ]
          },
          "metadata": {},
          "execution_count": 55
        }
      ]
    },
    {
      "cell_type": "code",
      "source": [],
      "metadata": {
        "id": "J0NnuICNc6S8"
      },
      "execution_count": 56,
      "outputs": []
    },
    {
      "cell_type": "markdown",
      "source": [
        "## Demo Games and Friends 😊🎲\n",
        "\n",
        "🎉We have successfully completed our Games and Friends workflow!\n",
        "\n",
        "The `games_and_friends_controller` function manages the flow of our program and handles any errors that may arise.\n",
        "\n",
        "Let the games begin!"
      ],
      "metadata": {
        "id": "mMhwrQECbKk5"
      }
    },
    {
      "cell_type": "code",
      "source": [
        "def games_and_friends_controller(query: str) -> None:\n",
        "    \"\"\"\n",
        "    Controller function for managing the execution flow of the games and friends program.\n",
        "\n",
        "    This function routes the query to the appropriate function, executes it, and outputs the result.\n",
        "\n",
        "    Args:\n",
        "        query (str): The query string.\n",
        "    \"\"\"\n",
        "    try:\n",
        "        function_call_result = route_query(query)\n",
        "\n",
        "        executed_function_result = execute_route_function(function_call_result)\n",
        "\n",
        "        output_route(executed_function_result)\n",
        "\n",
        "    except Exception as e:\n",
        "        print(\"An error occurred:\", e)\n",
        "        print(\"Please try again, with a different prompt/query.\")\n"
      ],
      "metadata": {
        "id": "o8Ok4w24fV4V"
      },
      "execution_count": 82,
      "outputs": []
    },
    {
      "cell_type": "code",
      "source": [
        "#\n",
        "# Input your query below\n",
        "#\n",
        "\n",
        "query = input(\"Enter your Games and Friends query: \")\n"
      ],
      "metadata": {
        "id": "S00XmGr94yUc",
        "colab": {
          "base_uri": "https://localhost:8080/"
        },
        "outputId": "c4cb7c41-a835-489b-9b79-1d197ad30cff"
      },
      "execution_count": 84,
      "outputs": [
        {
          "name": "stdout",
          "output_type": "stream",
          "text": [
            "Enter your Games and Friends query: A fantasy adventure game for a group of people\n"
          ]
        }
      ]
    },
    {
      "cell_type": "code",
      "source": [
        "#query = \"A fantasy adventure game for a group of people\""
      ],
      "metadata": {
        "id": "pXRn_WFDgC5Z"
      },
      "execution_count": 80,
      "outputs": []
    },
    {
      "cell_type": "code",
      "source": [
        "#\n",
        "# Run to see your results :)\n",
        "#\n",
        "\n",
        "\n",
        "games_and_friends_controller(query)"
      ],
      "metadata": {
        "colab": {
          "base_uri": "https://localhost:8080/"
        },
        "id": "GkWbjXC2gSMc",
        "outputId": "4ef8a3be-c227-4174-9deb-e796744f766e"
      },
      "execution_count": 83,
      "outputs": [
        {
          "output_type": "stream",
          "name": "stdout",
          "text": [
            "It's game time! We recommend:\n",
            "The Lord of the Rings: Journeys in Middle-Earth is a suitable game for you if you are looking for a cooperative and strategic card game set in the fantasy world of Middle-earth. This game allows players to work together against the forces of Sauron, rather than competing against each other. The deck construction aspect of the game adds depth and customization, making it engaging for players who enjoy strategic gameplay.\n",
            "\n",
            "The game is a lot of fun because it immerses players in the rich world of Middle-earth, with thematic content, artwork, and challenges that are replayable in different ways. The cooperative nature of the game encourages teamwork and communication among players, creating a sense of camaraderie as they work together to overcome obstacles.\n",
            "\n",
            "In The Lord of the Rings: Journeys in Middle-Earth, players take on the roles of heroes exploring Middle-earth and embarking on an epic campaign to combat evil. With a variety of quests, adventures, and characters to encounter, the game offers a dynamic and engaging experience for fans of J.R.R. Tolkien's literary works.\n",
            "*************************\n",
            "We think your friend(s)...\n",
            "Sinclair\n",
            "Regine\n",
            "would love to play this with you!\n"
          ]
        }
      ]
    }
  ]
}
